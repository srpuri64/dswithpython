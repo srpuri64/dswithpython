{
 "cells": [
  {
   "cell_type": "markdown",
   "id": "a9400fd7-1cbe-493a-85fd-083d57cb754e",
   "metadata": {},
   "source": [
    "# Working with Data Structures: Lists, Dictionaries, and Data Frames\n",
    "\n",
    "## Objective\n",
    "By the end of this tutorial, you'll have a solid understanding of these structures and their practical applications. We will explore three essential data structures in Python: \n",
    "- Lists\n",
    "- Dictionaries\n",
    "- Data Frames.\n",
    "\n",
    "\n",
    "## Pre-requisites\n",
    "- Python Environment: You should have a Python environment set up on your system. If you don't have Python installed, you can download it from the [official Python website](https://www.python.org/downloads/). We recommend downloading Python 3.8 or above.\n",
    "- Jupyter Notebook: This code is intended to be run in a Jupyter Notebook environment. Make sure you have [Jupyter Notebook installed](https://jupyter.org/install).\n",
    "- Library Installation: You need to install the required libraries:\n",
    "    - pandas\n",
    "\n",
    "To install, run the following commands:\n",
    "\"**!pip3 install pandas**\""
   ]
  },
  {
   "cell_type": "code",
   "execution_count": 1,
   "id": "9087a9fc-c872-4a78-a6c4-1088f5123b82",
   "metadata": {},
   "outputs": [
    {
     "name": "stdout",
     "output_type": "stream",
     "text": [
      "Requirement already satisfied: pandas in /opt/homebrew/lib/python3.11/site-packages (2.1.1)\n",
      "Requirement already satisfied: numpy>=1.23.2 in /opt/homebrew/lib/python3.11/site-packages (from pandas) (1.26.1)\n",
      "Requirement already satisfied: python-dateutil>=2.8.2 in /opt/homebrew/lib/python3.11/site-packages (from pandas) (2.8.2)\n",
      "Requirement already satisfied: pytz>=2020.1 in /opt/homebrew/lib/python3.11/site-packages (from pandas) (2023.3.post1)\n",
      "Requirement already satisfied: tzdata>=2022.1 in /opt/homebrew/lib/python3.11/site-packages (from pandas) (2023.3)\n",
      "Requirement already satisfied: six>=1.5 in /opt/homebrew/lib/python3.11/site-packages (from python-dateutil>=2.8.2->pandas) (1.16.0)\n",
      "\n",
      "\u001b[1m[\u001b[0m\u001b[34;49mnotice\u001b[0m\u001b[1;39;49m]\u001b[0m\u001b[39;49m A new release of pip is available: \u001b[0m\u001b[31;49m23.2.1\u001b[0m\u001b[39;49m -> \u001b[0m\u001b[32;49m23.3\u001b[0m\n",
      "\u001b[1m[\u001b[0m\u001b[34;49mnotice\u001b[0m\u001b[1;39;49m]\u001b[0m\u001b[39;49m To update, run: \u001b[0m\u001b[32;49mpython3.11 -m pip install --upgrade pip\u001b[0m\n"
     ]
    }
   ],
   "source": [
    "# Install the required libraries\n",
    "!pip3 install pandas"
   ]
  },
  {
   "cell_type": "markdown",
   "id": "1a1cd0d6-2de6-4645-8e2d-aeb27ec36574",
   "metadata": {},
   "source": [
    "### Introduction\n",
    "\n",
    "Data structures in Python are essential for storing and organizing data efficiently. They are crucial for performing various operations on data. The choice of the right data structure depends on the specific requirements of your application and the operations you need to perform on the data."
   ]
  },
  {
   "cell_type": "markdown",
   "id": "f95c3891-f0ce-4760-87a8-149a0016daa1",
   "metadata": {},
   "source": [
    "#### Lists\n",
    "\n",
    "- A list is a collection of items that can be of different types, such as numbers, strings, or other objects.\n",
    "- Lists are defined using square brackets **[ ]**.\n",
    "- Lists can be modified, which means you can add, remove, or modify elements."
   ]
  },
  {
   "cell_type": "code",
   "execution_count": 3,
   "id": "05b140f1-5afb-40da-8629-0cdc730ed521",
   "metadata": {},
   "outputs": [
    {
     "name": "stdout",
     "output_type": "stream",
     "text": [
      "[1, 2, 3, 4, 5]\n"
     ]
    }
   ],
   "source": [
    "my_list = [1, 2, 3, 4, 5]\n",
    "print(my_list)"
   ]
  },
  {
   "cell_type": "markdown",
   "id": "64ad86bf-14af-452b-aa85-98131b06c044",
   "metadata": {},
   "source": [
    "##### List Operations\n",
    "\n",
    "- **Indexing**: Accessing elements by their position."
   ]
  },
  {
   "cell_type": "code",
   "execution_count": 15,
   "id": "50fb907f-1de3-4866-9cfb-1a83eca22f54",
   "metadata": {},
   "outputs": [
    {
     "name": "stdout",
     "output_type": "stream",
     "text": [
      "10\n"
     ]
    }
   ],
   "source": [
    "my_list = [10, 20, 30, 40]\n",
    "print(my_list[0])  "
   ]
  },
  {
   "cell_type": "markdown",
   "id": "55508f55-5004-4ad5-bfed-cce65332d962",
   "metadata": {},
   "source": [
    "- **Slicing**: Extracting a portion of the list."
   ]
  },
  {
   "cell_type": "code",
   "execution_count": 14,
   "id": "0c7f1f93-0196-4e4e-ad34-a441bf3ce816",
   "metadata": {},
   "outputs": [
    {
     "name": "stdout",
     "output_type": "stream",
     "text": [
      "[20, 30]\n"
     ]
    }
   ],
   "source": [
    "my_list = [10, 20, 30, 40]\n",
    "print(my_list[1:3])  "
   ]
  },
  {
   "cell_type": "markdown",
   "id": "5d2367dd-7185-4ab3-b496-762ab07c6a92",
   "metadata": {},
   "source": [
    "- **Concatenation (+)**: Combining two lists into a new list using the + operator."
   ]
  },
  {
   "cell_type": "code",
   "execution_count": 13,
   "id": "b44efa57-d98a-4cee-bfd8-548b1470a651",
   "metadata": {},
   "outputs": [
    {
     "name": "stdout",
     "output_type": "stream",
     "text": [
      "[1, 2, 3, 4]\n"
     ]
    }
   ],
   "source": [
    "list1 = [1, 2]\n",
    "list2 = [3, 4]\n",
    "result = list1 + list2\n",
    "print(result) "
   ]
  },
  {
   "cell_type": "markdown",
   "id": "d6504449-d08e-4d35-b57c-4a26c3ffdea3",
   "metadata": {},
   "source": [
    "- **Repetition (*)**: Repeating a list a certain number of times."
   ]
  },
  {
   "cell_type": "code",
   "execution_count": 12,
   "id": "60974bed-fb67-466c-b15c-27f1df43b2e9",
   "metadata": {},
   "outputs": [
    {
     "name": "stdout",
     "output_type": "stream",
     "text": [
      "[1, 2, 1, 2, 1, 2]\n"
     ]
    }
   ],
   "source": [
    "my_list = [1, 2]\n",
    "repeated_list = my_list * 3\n",
    "print(repeated_list)  "
   ]
  },
  {
   "cell_type": "markdown",
   "id": "fa777bfd-a8d2-4e89-8000-17edd30cd3bb",
   "metadata": {},
   "source": [
    "- **Append and Extend**:\n",
    "The append method adds an element to the end of the list. The extend method appends elements from another iterable to the end of the current list."
   ]
  },
  {
   "cell_type": "code",
   "execution_count": 11,
   "id": "c6d9f4d2-41c1-4380-b047-4f1e1ce02cc1",
   "metadata": {},
   "outputs": [
    {
     "name": "stdout",
     "output_type": "stream",
     "text": [
      "[1, 2, 3]\n",
      "[1, 2, 3, 4]\n"
     ]
    }
   ],
   "source": [
    "my_list = [1, 2]\n",
    "my_list.append(3)\n",
    "print(my_list)  # Outputs: [1, 2, 3]\n",
    "\n",
    "list1 = [1, 2]\n",
    "list2 = [3, 4]\n",
    "list1.extend(list2)\n",
    "print(list1) "
   ]
  },
  {
   "cell_type": "markdown",
   "id": "3eba5ebd-5e94-4fe5-89cd-0697ff31dc62",
   "metadata": {},
   "source": [
    "- **Insert**: Adding an element at a specific position within the list."
   ]
  },
  {
   "cell_type": "code",
   "execution_count": 10,
   "id": "590fd03f-aa39-4695-bfb6-35697fb43812",
   "metadata": {},
   "outputs": [
    {
     "name": "stdout",
     "output_type": "stream",
     "text": [
      "[1, 4, 2, 3]\n"
     ]
    }
   ],
   "source": [
    "my_list = [1, 2, 3]\n",
    "my_list.insert(1, 4)  # Insert 4 at index 1\n",
    "print(my_list) "
   ]
  },
  {
   "cell_type": "markdown",
   "id": "e807bd0b-8ac3-4f4c-af50-ed42d1c5662f",
   "metadata": {},
   "source": [
    "- **Remove and Pop**:\n",
    "The remove method deletes the first occurrence of a specified value from the list.\n",
    "The pop method removes and returns an element based on the provided index."
   ]
  },
  {
   "cell_type": "code",
   "execution_count": 17,
   "id": "fa12defa-d3e4-409e-b65f-a28a94cb3131",
   "metadata": {},
   "outputs": [
    {
     "name": "stdout",
     "output_type": "stream",
     "text": [
      "[1, 3, 2]\n"
     ]
    }
   ],
   "source": [
    "# Remove method\n",
    "my_list = [1, 2, 3, 2]\n",
    "my_list.remove(2)  # Removes the first '2'\n",
    "print(my_list)"
   ]
  },
  {
   "cell_type": "code",
   "execution_count": 19,
   "id": "a673bc38-f439-43aa-b741-0f44847f85ed",
   "metadata": {},
   "outputs": [
    {
     "name": "stdout",
     "output_type": "stream",
     "text": [
      "2\n"
     ]
    }
   ],
   "source": [
    "# Pop method\n",
    "my_list = [1, 2, 3]\n",
    "popped_element = my_list.pop(1)  # Removes and returns element at index 1\n",
    "print(popped_element)"
   ]
  },
  {
   "cell_type": "markdown",
   "id": "26a404a0-e848-4ba1-b7d8-f1d67acbd7d0",
   "metadata": {},
   "source": [
    "- **Len**: Getting the length of the list using the len function."
   ]
  },
  {
   "cell_type": "code",
   "execution_count": 20,
   "id": "46a9d886-512a-47fd-bbdd-f51c06d422d9",
   "metadata": {},
   "outputs": [
    {
     "name": "stdout",
     "output_type": "stream",
     "text": [
      "4\n"
     ]
    }
   ],
   "source": [
    "my_list = [1, 2, 3, 4]\n",
    "length = len(my_list)\n",
    "print(length) "
   ]
  },
  {
   "cell_type": "markdown",
   "id": "23eee39d-817e-4e66-87d2-9a2c66e2cc11",
   "metadata": {},
   "source": [
    "### Dictionaries\n",
    "\n",
    "A dictionary is a collection of key-value pairs. Keys are unique identifiers used to access or reference the associated values. Dictionaries are unordered, and elements are accessed by their keys."
   ]
  },
  {
   "cell_type": "code",
   "execution_count": 21,
   "id": "f180b4cc-ee57-40f8-bdcf-6a8d57b72c8d",
   "metadata": {},
   "outputs": [],
   "source": [
    "person_info = {\n",
    "    \"name\": \"Alice\",\n",
    "    \"age\": 30,\n",
    "    \"city\": \"New York\"\n",
    "}"
   ]
  },
  {
   "cell_type": "markdown",
   "id": "67451091-9923-4be1-b888-a6b5901200c2",
   "metadata": {},
   "source": [
    "##### Dictionary Operations\n",
    "\n",
    "\n",
    "- **Accessing values by keys**:\n",
    "You can access values associated with keys using square brackets or the get() method. Using square brackets results in a KeyError if the key is not present, while get() allows you to provide a default value."
   ]
  },
  {
   "cell_type": "code",
   "execution_count": 22,
   "id": "56e97fd5-cde2-4a78-b9d8-17f14af682d2",
   "metadata": {},
   "outputs": [
    {
     "name": "stdout",
     "output_type": "stream",
     "text": [
      "Alice\n",
      "30\n"
     ]
    }
   ],
   "source": [
    "my_dict = {\"name\": \"Alice\", \"age\": 30}\n",
    "name = my_dict[\"name\"]  # Accessing using square brackets\n",
    "age = my_dict.get(\"age\")  # Accessing using get()\n",
    "print(name)\n",
    "print(age)   "
   ]
  },
  {
   "cell_type": "markdown",
   "id": "a1beef6c-c00e-4c41-b452-1c376f618de1",
   "metadata": {},
   "source": [
    "- **Modifying values**: You can change the value associated with a specific key by assigning a new value to it."
   ]
  },
  {
   "cell_type": "code",
   "execution_count": 23,
   "id": "6f0df7c4-d725-458c-824e-e04dbdf54788",
   "metadata": {},
   "outputs": [
    {
     "name": "stdout",
     "output_type": "stream",
     "text": [
      "{'name': 'Alice', 'age': 31}\n"
     ]
    }
   ],
   "source": [
    "my_dict = {\"name\": \"Alice\", \"age\": 30}\n",
    "my_dict[\"age\"] = 31  # Modifying the value associated with the \"age\" key\n",
    "print(my_dict)  "
   ]
  },
  {
   "cell_type": "markdown",
   "id": "bec87b8b-4dba-4441-b4d4-d79eb8f71a49",
   "metadata": {},
   "source": [
    "- **Adding new key-value pairs**: To add a new key-value pair to a dictionary, simply assign a value to a new key."
   ]
  },
  {
   "cell_type": "code",
   "execution_count": 24,
   "id": "a24d569a-35bd-40a9-a53b-fd6de2c50fee",
   "metadata": {},
   "outputs": [
    {
     "name": "stdout",
     "output_type": "stream",
     "text": [
      "{'name': 'Alice', 'age': 30, 'city': 'New York'}\n"
     ]
    }
   ],
   "source": [
    "my_dict = {\"name\": \"Alice\", \"age\": 30}\n",
    "my_dict[\"city\"] = \"New York\"  # Adding a new key-value pair\n",
    "print(my_dict)"
   ]
  },
  {
   "cell_type": "markdown",
   "id": "733aeee2-ab67-4523-9d37-cda8391cfca8",
   "metadata": {},
   "source": [
    "- **Removing key-value pairs**:\n",
    "You can remove key-value pairs from a dictionary using the del statement or the pop() method.\n",
    "    - del deletes a key-value pair.\n",
    "    - pop() removes a pair and returns the associated value."
   ]
  },
  {
   "cell_type": "code",
   "execution_count": 27,
   "id": "7e235554-1cb6-410a-b176-f97002704f0a",
   "metadata": {},
   "outputs": [
    {
     "name": "stdout",
     "output_type": "stream",
     "text": [
      "{'name': 'Alice'}\n"
     ]
    }
   ],
   "source": [
    "# del method\n",
    "my_dict = {\"name\": \"Alice\", \"age\": 30}\n",
    "del my_dict[\"age\"]  # Removing the \"age\" key-value pair\n",
    "print(my_dict) "
   ]
  },
  {
   "cell_type": "code",
   "execution_count": 26,
   "id": "b5d9df6d-20a3-48cd-a7ba-662e063b2123",
   "metadata": {},
   "outputs": [
    {
     "name": "stdout",
     "output_type": "stream",
     "text": [
      "30\n"
     ]
    }
   ],
   "source": [
    "# pop() method\n",
    "my_dict = {\"name\": \"Alice\", \"age\": 30}\n",
    "age = my_dict.pop(\"age\")  # Removing and returning the \"age\" value\n",
    "print(age) "
   ]
  },
  {
   "cell_type": "markdown",
   "id": "11d39b62-1bb0-4135-961e-59665b3f5a98",
   "metadata": {},
   "source": [
    "- **Checking if a key exists**: You can check if a key exists in a dictionary using the in operator."
   ]
  },
  {
   "cell_type": "code",
   "execution_count": 29,
   "id": "2a4243c9-524d-47ed-bbfa-488a59c2cfb1",
   "metadata": {},
   "outputs": [],
   "source": [
    "my_dict = {\"name\": \"Alice\", \"age\": 30}\n",
    "has_name = \"name\" in my_dict  # Checking if \""
   ]
  },
  {
   "cell_type": "markdown",
   "id": "f04422c9-a115-4970-bb1a-78d4cedddc12",
   "metadata": {},
   "source": [
    "### Data Frames\n",
    "\n",
    "-  A data frame is a two-dimensional, size-mutable, and potentially heterogeneous tabular data structure.\n",
    "-  It's a primary data structure used in the pandas library for data analysis and manipulation.\n",
    "-  Well, think of a data frame like a special kind of table you might use when sorting out your recipes.\n",
    "-  It can hold lots of information in rows and columns, kind of like how you write down your favorite recipes in a big book.\n",
    "-  Now, this table can change in size as you add more recipes or take some away, and it's pretty smart because it can hold all sorts of different things, not just recipes.\n",
    "-  People who like to organize and analyze information use something called the pandas library, and they often use data frames for that.\n",
    "-  So, a data frame is like a handy tool in a computer cookbook for keeping and working with all sorts of information.\n"
   ]
  },
  {
   "cell_type": "code",
   "execution_count": 39,
   "id": "a97dbf3f-99ed-4c0a-8e71-a0b4b81651ee",
   "metadata": {},
   "outputs": [
    {
     "data": {
      "text/html": [
       "<div>\n",
       "<style scoped>\n",
       "    .dataframe tbody tr th:only-of-type {\n",
       "        vertical-align: middle;\n",
       "    }\n",
       "\n",
       "    .dataframe tbody tr th {\n",
       "        vertical-align: top;\n",
       "    }\n",
       "\n",
       "    .dataframe thead th {\n",
       "        text-align: right;\n",
       "    }\n",
       "</style>\n",
       "<table border=\"1\" class=\"dataframe\">\n",
       "  <thead>\n",
       "    <tr style=\"text-align: right;\">\n",
       "      <th></th>\n",
       "      <th>Name</th>\n",
       "      <th>Age</th>\n",
       "      <th>City</th>\n",
       "    </tr>\n",
       "  </thead>\n",
       "  <tbody>\n",
       "    <tr>\n",
       "      <th>0</th>\n",
       "      <td>Alice</td>\n",
       "      <td>25</td>\n",
       "      <td>New York</td>\n",
       "    </tr>\n",
       "    <tr>\n",
       "      <th>1</th>\n",
       "      <td>Bob</td>\n",
       "      <td>30</td>\n",
       "      <td>San Francisco</td>\n",
       "    </tr>\n",
       "    <tr>\n",
       "      <th>2</th>\n",
       "      <td>Charlie</td>\n",
       "      <td>35</td>\n",
       "      <td>Los Angeles</td>\n",
       "    </tr>\n",
       "  </tbody>\n",
       "</table>\n",
       "</div>"
      ],
      "text/plain": [
       "      Name  Age           City\n",
       "0    Alice   25       New York\n",
       "1      Bob   30  San Francisco\n",
       "2  Charlie   35    Los Angeles"
      ]
     },
     "execution_count": 39,
     "metadata": {},
     "output_type": "execute_result"
    }
   ],
   "source": [
    "import pandas as pd\n",
    "\n",
    "# Generating synthetic data\n",
    "data = {\n",
    "    'Name': ['Alice', 'Bob', 'Charlie'],\n",
    "    'Age': [25, 30, 35],\n",
    "    'City': ['New York', 'San Francisco', 'Los Angeles']\n",
    "}\n",
    "# Create a data frame\n",
    "df = pd.DataFrame(data)\n",
    "\n",
    "# View dataframe\n",
    "df"
   ]
  },
  {
   "cell_type": "markdown",
   "id": "4249a35c-6772-4bd0-8486-710f7ee9ae33",
   "metadata": {},
   "source": [
    "##### Data frame Operations\n",
    "\n",
    "- While data frames don't have \"operators\" in the same way that lists or dictionaries do, they have various methods and operations that allow you to work with tabular data effectively.\n",
    "- Let's explore some essential data frame operations with explanations and examples:\n",
    "    - Creating a data frame: You can create a data frame from various data sources, including dictionaries, lists, CSV files, or database queries.\n",
    "    - Viewing Data: You can inspect the contents of a data frame using the head() or tail() methods to see the first or last few rows.\n",
    "    - Selecting and filtering data: You can select specific columns of a data frame by referencing them using square brackets or the dot notation.\n",
    "    - Grouping and aggregating data: You can group data based on one or more columns and then perform aggregate functions like sum, mean, or count on those groups.\n",
    "    - Adding and removing columns: You can add new columns or remove existing ones.\n",
    "    - Sorting Data: You can sort the data frame by one or more columns.\n",
    "    - Merging data frames: You can combine two data frames based on a common column or index using operations like merge() or concat().\n",
    "    - Handling missing data: Data frames provide methods for handling missing data, such as fillna() or dropna().\n",
    "    - Statistical Analysis: You can perform various statistical analyses on a data frame using methods like describe() or corr()."
   ]
  },
  {
   "cell_type": "code",
   "execution_count": 42,
   "id": "646e19f5-9a82-429c-ba86-202901da10d9",
   "metadata": {},
   "outputs": [],
   "source": [
    "import pandas as pd\n",
    "\n",
    "# Creating a dataframe\n",
    "data = {\n",
    "    'Name': ['Alice', 'Bob', 'Charlie'],\n",
    "    'Age': [25, 30, 35],\n",
    "    'City': ['New York', 'San Francisco', 'Los Angeles']\n",
    "}\n",
    "\n",
    "df = pd.DataFrame(data)  # Creating a DataFrame from a dictionary"
   ]
  },
  {
   "cell_type": "code",
   "execution_count": 41,
   "id": "da51e86e-e265-4282-9c03-21bd65467128",
   "metadata": {},
   "outputs": [
    {
     "data": {
      "text/html": [
       "<div>\n",
       "<style scoped>\n",
       "    .dataframe tbody tr th:only-of-type {\n",
       "        vertical-align: middle;\n",
       "    }\n",
       "\n",
       "    .dataframe tbody tr th {\n",
       "        vertical-align: top;\n",
       "    }\n",
       "\n",
       "    .dataframe thead th {\n",
       "        text-align: right;\n",
       "    }\n",
       "</style>\n",
       "<table border=\"1\" class=\"dataframe\">\n",
       "  <thead>\n",
       "    <tr style=\"text-align: right;\">\n",
       "      <th></th>\n",
       "      <th>Name</th>\n",
       "      <th>Age</th>\n",
       "      <th>City</th>\n",
       "    </tr>\n",
       "  </thead>\n",
       "  <tbody>\n",
       "    <tr>\n",
       "      <th>0</th>\n",
       "      <td>Alice</td>\n",
       "      <td>25</td>\n",
       "      <td>New York</td>\n",
       "    </tr>\n",
       "    <tr>\n",
       "      <th>1</th>\n",
       "      <td>Bob</td>\n",
       "      <td>30</td>\n",
       "      <td>San Francisco</td>\n",
       "    </tr>\n",
       "    <tr>\n",
       "      <th>2</th>\n",
       "      <td>Charlie</td>\n",
       "      <td>35</td>\n",
       "      <td>Los Angeles</td>\n",
       "    </tr>\n",
       "  </tbody>\n",
       "</table>\n",
       "</div>"
      ],
      "text/plain": [
       "      Name  Age           City\n",
       "0    Alice   25       New York\n",
       "1      Bob   30  San Francisco\n",
       "2  Charlie   35    Los Angeles"
      ]
     },
     "execution_count": 41,
     "metadata": {},
     "output_type": "execute_result"
    }
   ],
   "source": [
    "# Viewing data:\n",
    "df.head()  # View the first few rows\n",
    "df.tail()  # View the last few rows"
   ]
  },
  {
   "cell_type": "code",
   "execution_count": 44,
   "id": "ff53d8e2-6828-467b-8b27-4b41addbe0e9",
   "metadata": {},
   "outputs": [
    {
     "data": {
      "text/plain": [
       "0    25\n",
       "1    30\n",
       "2    35\n",
       "Name: Age, dtype: int64"
      ]
     },
     "execution_count": 44,
     "metadata": {},
     "output_type": "execute_result"
    }
   ],
   "source": [
    "# Selecting data\n",
    "df['Name']  # Selecting a column using square brackets\n",
    "df.Age  # Selecting a column using dot notation"
   ]
  },
  {
   "cell_type": "code",
   "execution_count": 47,
   "id": "afde2730-2abb-49b9-9358-204c4fb6d577",
   "metadata": {},
   "outputs": [
    {
     "data": {
      "text/html": [
       "<div>\n",
       "<style scoped>\n",
       "    .dataframe tbody tr th:only-of-type {\n",
       "        vertical-align: middle;\n",
       "    }\n",
       "\n",
       "    .dataframe tbody tr th {\n",
       "        vertical-align: top;\n",
       "    }\n",
       "\n",
       "    .dataframe thead th {\n",
       "        text-align: right;\n",
       "    }\n",
       "</style>\n",
       "<table border=\"1\" class=\"dataframe\">\n",
       "  <thead>\n",
       "    <tr style=\"text-align: right;\">\n",
       "      <th></th>\n",
       "      <th>Name</th>\n",
       "      <th>Age</th>\n",
       "      <th>City</th>\n",
       "    </tr>\n",
       "  </thead>\n",
       "  <tbody>\n",
       "    <tr>\n",
       "      <th>2</th>\n",
       "      <td>Charlie</td>\n",
       "      <td>35</td>\n",
       "      <td>Los Angeles</td>\n",
       "    </tr>\n",
       "  </tbody>\n",
       "</table>\n",
       "</div>"
      ],
      "text/plain": [
       "      Name  Age         City\n",
       "2  Charlie   35  Los Angeles"
      ]
     },
     "execution_count": 47,
     "metadata": {},
     "output_type": "execute_result"
    }
   ],
   "source": [
    "# Filtering data\n",
    "\n",
    "df[df.Age > 30] # Filtering rows where Age is greater than 30"
   ]
  },
  {
   "cell_type": "code",
   "execution_count": 49,
   "id": "0f6ba1b5-dfe3-4527-8c69-51da31cd8651",
   "metadata": {},
   "outputs": [
    {
     "data": {
      "text/plain": [
       "City\n",
       "Los Angeles      35.0\n",
       "New York         25.0\n",
       "San Francisco    30.0\n",
       "Name: Age, dtype: float64"
      ]
     },
     "execution_count": 49,
     "metadata": {},
     "output_type": "execute_result"
    }
   ],
   "source": [
    "# Grouping data\n",
    "df.groupby('City')['Age'].mean()  # Average age per city"
   ]
  },
  {
   "cell_type": "code",
   "execution_count": 51,
   "id": "1942ad2f-0a24-4689-a45d-b1f642e660e3",
   "metadata": {},
   "outputs": [],
   "source": [
    "# Add or remove columns\n",
    "\n",
    "df['Income'] = [50000, 60000, 75000]  # Adding a new column\n",
    "df.drop('Income', axis=1, inplace=True)  # Removing a column"
   ]
  },
  {
   "cell_type": "code",
   "execution_count": 52,
   "id": "12f7d2ad-80db-42e8-9549-bf016a01954a",
   "metadata": {},
   "outputs": [
    {
     "data": {
      "text/html": [
       "<div>\n",
       "<style scoped>\n",
       "    .dataframe tbody tr th:only-of-type {\n",
       "        vertical-align: middle;\n",
       "    }\n",
       "\n",
       "    .dataframe tbody tr th {\n",
       "        vertical-align: top;\n",
       "    }\n",
       "\n",
       "    .dataframe thead th {\n",
       "        text-align: right;\n",
       "    }\n",
       "</style>\n",
       "<table border=\"1\" class=\"dataframe\">\n",
       "  <thead>\n",
       "    <tr style=\"text-align: right;\">\n",
       "      <th></th>\n",
       "      <th>Name</th>\n",
       "      <th>Age</th>\n",
       "      <th>City</th>\n",
       "    </tr>\n",
       "  </thead>\n",
       "  <tbody>\n",
       "    <tr>\n",
       "      <th>2</th>\n",
       "      <td>Charlie</td>\n",
       "      <td>35</td>\n",
       "      <td>Los Angeles</td>\n",
       "    </tr>\n",
       "    <tr>\n",
       "      <th>1</th>\n",
       "      <td>Bob</td>\n",
       "      <td>30</td>\n",
       "      <td>San Francisco</td>\n",
       "    </tr>\n",
       "    <tr>\n",
       "      <th>0</th>\n",
       "      <td>Alice</td>\n",
       "      <td>25</td>\n",
       "      <td>New York</td>\n",
       "    </tr>\n",
       "  </tbody>\n",
       "</table>\n",
       "</div>"
      ],
      "text/plain": [
       "      Name  Age           City\n",
       "2  Charlie   35    Los Angeles\n",
       "1      Bob   30  San Francisco\n",
       "0    Alice   25       New York"
      ]
     },
     "execution_count": 52,
     "metadata": {},
     "output_type": "execute_result"
    }
   ],
   "source": [
    "# Sorting data\n",
    "\n",
    "df.sort_values(by='Age', ascending=False)"
   ]
  },
  {
   "cell_type": "code",
   "execution_count": 61,
   "id": "73a09da4-72fe-4223-8a59-a5034fa59963",
   "metadata": {},
   "outputs": [
    {
     "data": {
      "text/html": [
       "<div>\n",
       "<style scoped>\n",
       "    .dataframe tbody tr th:only-of-type {\n",
       "        vertical-align: middle;\n",
       "    }\n",
       "\n",
       "    .dataframe tbody tr th {\n",
       "        vertical-align: top;\n",
       "    }\n",
       "\n",
       "    .dataframe thead th {\n",
       "        text-align: right;\n",
       "    }\n",
       "</style>\n",
       "<table border=\"1\" class=\"dataframe\">\n",
       "  <thead>\n",
       "    <tr style=\"text-align: right;\">\n",
       "      <th></th>\n",
       "      <th>Vegetables</th>\n",
       "      <th>Cost</th>\n",
       "      <th>AmountVeggie</th>\n",
       "      <th>Fruits</th>\n",
       "      <th>AmountFr</th>\n",
       "    </tr>\n",
       "  </thead>\n",
       "  <tbody>\n",
       "    <tr>\n",
       "      <th>0</th>\n",
       "      <td>Cauliflower</td>\n",
       "      <td>35</td>\n",
       "      <td>4</td>\n",
       "      <td>Cherry</td>\n",
       "      <td>3</td>\n",
       "    </tr>\n",
       "  </tbody>\n",
       "</table>\n",
       "</div>"
      ],
      "text/plain": [
       "    Vegetables  Cost AmountVeggie  Fruits AmountFr\n",
       "0  Cauliflower    35            4  Cherry        3"
      ]
     },
     "execution_count": 61,
     "metadata": {},
     "output_type": "execute_result"
    }
   ],
   "source": [
    "import pandas as pd\n",
    "\n",
    "data1 = {\n",
    "    'Vegetables': ['Cauliflower', 'Tomato', 'Potato'],\n",
    "    'Cost': [35, 40, 50],\n",
    "    'AmountVeggie': ['4', '5', '6']\n",
    "}\n",
    "\n",
    "data2 = {\n",
    "    'Fruits': ['Apple', 'Banana', 'Cherry'],\n",
    "    'Cost': [25, 30, 35],\n",
    "    'AmountFr': ['8', '9', '3']\n",
    "}\n",
    "\n",
    "# Convert dictionaries to data frames\n",
    "df1 = pd.DataFrame(data1)\n",
    "df2 = pd.DataFrame(data2)\n",
    "\n",
    "# Merge data frames based on a common column\n",
    "merged_df = pd.merge(df1, df2, left_on='Cost', right_on='Cost')\n",
    "merged_df"
   ]
  },
  {
   "cell_type": "code",
   "execution_count": 62,
   "id": "b99c0c84-662f-4961-aa26-653299f90e57",
   "metadata": {},
   "outputs": [
    {
     "data": {
      "text/html": [
       "<div>\n",
       "<style scoped>\n",
       "    .dataframe tbody tr th:only-of-type {\n",
       "        vertical-align: middle;\n",
       "    }\n",
       "\n",
       "    .dataframe tbody tr th {\n",
       "        vertical-align: top;\n",
       "    }\n",
       "\n",
       "    .dataframe thead th {\n",
       "        text-align: right;\n",
       "    }\n",
       "</style>\n",
       "<table border=\"1\" class=\"dataframe\">\n",
       "  <thead>\n",
       "    <tr style=\"text-align: right;\">\n",
       "      <th></th>\n",
       "      <th>Name</th>\n",
       "      <th>Age</th>\n",
       "      <th>City</th>\n",
       "    </tr>\n",
       "  </thead>\n",
       "  <tbody>\n",
       "    <tr>\n",
       "      <th>0</th>\n",
       "      <td>Alice</td>\n",
       "      <td>25</td>\n",
       "      <td>New York</td>\n",
       "    </tr>\n",
       "    <tr>\n",
       "      <th>1</th>\n",
       "      <td>Bob</td>\n",
       "      <td>30</td>\n",
       "      <td>San Francisco</td>\n",
       "    </tr>\n",
       "    <tr>\n",
       "      <th>2</th>\n",
       "      <td>Charlie</td>\n",
       "      <td>35</td>\n",
       "      <td>Los Angeles</td>\n",
       "    </tr>\n",
       "  </tbody>\n",
       "</table>\n",
       "</div>"
      ],
      "text/plain": [
       "      Name  Age           City\n",
       "0    Alice   25       New York\n",
       "1      Bob   30  San Francisco\n",
       "2  Charlie   35    Los Angeles"
      ]
     },
     "execution_count": 62,
     "metadata": {},
     "output_type": "execute_result"
    }
   ],
   "source": [
    "# Handling missing values\n",
    "df.fillna(0)  # Replace missing values with 0\n",
    "df.dropna()   # Remove rows with missing values"
   ]
  },
  {
   "cell_type": "markdown",
   "id": "9f59b67e-4676-4bc1-8f1f-73154ea0d797",
   "metadata": {},
   "source": [
    "### Summary\n",
    "\n",
    "- These are some of the common data frame operations in pandas, which make it a powerful tool for data manipulation and analysis in Python.\n",
    "- Data frames provide a structured way to work with tabular data, making it easier to perform tasks such as data cleaning, exploration, and visualization.\n",
    "\n",
    "- To summarize, here's a quick comparison of Lists, Dictionaries, and Data frames:\n",
    "    - Lists: Ordered, mutable, elements accessed by index.\n",
    "    - Dictionaries: Unordered, key-value pairs, elements accessed by keys.\n",
    "    - Data frame: Tabular, two-dimensional, ideal for data analysis.\n",
    "\n",
    "In conclusion, understanding these data structures is essential for any Python programmer. Lists are versatile for storing ordered data, dictionaries are efficient for key-value pairs, and data frames are powerful tools for data manipulation. Thank you!"
   ]
  }
 ],
 "metadata": {
  "kernelspec": {
   "display_name": "Python 3 (ipykernel)",
   "language": "python",
   "name": "python3"
  },
  "language_info": {
   "codemirror_mode": {
    "name": "ipython",
    "version": 3
   },
   "file_extension": ".py",
   "mimetype": "text/x-python",
   "name": "python",
   "nbconvert_exporter": "python",
   "pygments_lexer": "ipython3",
   "version": "3.11.6"
  }
 },
 "nbformat": 4,
 "nbformat_minor": 5
}
