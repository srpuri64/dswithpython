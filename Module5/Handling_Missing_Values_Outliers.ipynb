{
 "cells": [
  {
   "attachments": {},
   "cell_type": "markdown",
   "id": "e23350ce-e660-41a3-b0a7-4536b9126536",
   "metadata": {},
   "source": [
    "# Handling Missing Values, Outliers, and Inconsistencies\n",
    "\n",
    "## Objective \n",
    "Learn how to handle missing values, outliers, and inconsistencies in data.\n",
    "\n",
    "## Pre-requisites: \n",
    "\n",
    "Please make sure you have the following libraries installed:\n",
    "- Python Environment: You should have a Python environment set up on your system. If you don't have Python installed, you can download it from the [official Python website](https://www.python.org/downloads/). We recommend downloading Python 3.8 or above.\n",
    "- Jupyter Notebook: This code is intended to be run in a Jupyter Notebook environment. Make sure you have [Jupyter Notebook installed](https://jupyter.org/install).\n",
    "- Library Installation: You need to install the required libraries:\n",
    "    - pandas\n",
    "    - numpy\n",
    "    - matplotlib\n",
    " \n",
    "To install, run the following commands:\n",
    "\"**!pip3 install pandas numpy matplotlib seaborn**\""
   ]
  },
  {
   "cell_type": "code",
   "execution_count": 6,
   "id": "2d58a6e8-c715-4020-857a-2b089eb9157c",
   "metadata": {},
   "outputs": [
    {
     "name": "stdout",
     "output_type": "stream",
     "text": [
      "Requirement already satisfied: pandas in /opt/homebrew/lib/python3.11/site-packages (2.1.1)\n",
      "Requirement already satisfied: numpy in /opt/homebrew/lib/python3.11/site-packages (1.26.1)\n",
      "Requirement already satisfied: matplotlib in /opt/homebrew/lib/python3.11/site-packages (3.8.0)\n",
      "Requirement already satisfied: python-dateutil>=2.8.2 in /opt/homebrew/lib/python3.11/site-packages (from pandas) (2.8.2)\n",
      "Requirement already satisfied: pytz>=2020.1 in /opt/homebrew/lib/python3.11/site-packages (from pandas) (2023.3.post1)\n",
      "Requirement already satisfied: tzdata>=2022.1 in /opt/homebrew/lib/python3.11/site-packages (from pandas) (2023.3)\n",
      "Requirement already satisfied: contourpy>=1.0.1 in /opt/homebrew/lib/python3.11/site-packages (from matplotlib) (1.1.1)\n",
      "Requirement already satisfied: cycler>=0.10 in /opt/homebrew/lib/python3.11/site-packages (from matplotlib) (0.12.1)\n",
      "Requirement already satisfied: fonttools>=4.22.0 in /opt/homebrew/lib/python3.11/site-packages (from matplotlib) (4.43.1)\n",
      "Requirement already satisfied: kiwisolver>=1.0.1 in /opt/homebrew/lib/python3.11/site-packages (from matplotlib) (1.4.5)\n",
      "Requirement already satisfied: packaging>=20.0 in /opt/homebrew/lib/python3.11/site-packages (from matplotlib) (23.2)\n",
      "Requirement already satisfied: pillow>=6.2.0 in /opt/homebrew/lib/python3.11/site-packages (from matplotlib) (10.1.0)\n",
      "Requirement already satisfied: pyparsing>=2.3.1 in /opt/homebrew/lib/python3.11/site-packages (from matplotlib) (3.1.1)\n",
      "Requirement already satisfied: six>=1.5 in /opt/homebrew/lib/python3.11/site-packages (from python-dateutil>=2.8.2->pandas) (1.16.0)\n",
      "\n",
      "\u001b[1m[\u001b[0m\u001b[34;49mnotice\u001b[0m\u001b[1;39;49m]\u001b[0m\u001b[39;49m A new release of pip is available: \u001b[0m\u001b[31;49m23.2.1\u001b[0m\u001b[39;49m -> \u001b[0m\u001b[32;49m23.3.1\u001b[0m\n",
      "\u001b[1m[\u001b[0m\u001b[34;49mnotice\u001b[0m\u001b[1;39;49m]\u001b[0m\u001b[39;49m To update, run: \u001b[0m\u001b[32;49mpython3.11 -m pip install --upgrade pip\u001b[0m\n"
     ]
    }
   ],
   "source": [
    "# Install necessary libraries\n",
    "!pip3 install pandas numpy matplotlib seaborn"
   ]
  },
  {
   "cell_type": "code",
   "execution_count": 14,
   "id": "e0ddba01-63d5-4066-88af-84721b6a9892",
   "metadata": {},
   "outputs": [],
   "source": [
    "# Import necessary libraries\n",
    "import pandas as pd\n",
    "import numpy as np\n",
    "import matplotlib.pyplot as plt\n",
    "import seaborn as sns"
   ]
  },
  {
   "cell_type": "markdown",
   "id": "6b47c1cc-d9c3-41d3-92eb-caf47835079e",
   "metadata": {},
   "source": [
    "## Load the dataset\n",
    "We will be using the Titanic dataset which is publicly available for research purposes.\n",
    "This dataset has 414 columns and the following columns:\n",
    "\n",
    "- **PassengerId**: A unique identifier for each passenger.\n",
    "- **Survived**: A binary variable indicating whether the passenger survived (1) or did not survive (0) the sinking.\n",
    "- **Pclass**: The passenger class, which represents socio-economic status (1st, 2nd, or 3rd class).\n",
    "- **Name**: The passenger's name.\n",
    "- **Sex**: The gender of the passenger.\n",
    "- **Age**: The age of the passenger.\n",
    "- **SibSp**: The number of siblings or spouses aboard.\n",
    "- **Parch**: The number of parents or children aboard.\n",
    "- **Ticket**: The passenger's ticket number.\n",
    "- **Fare**: The fare paid for the ticket.\n",
    "- **Cabin**: The cabin number.\n",
    "- **Embarked**: The port of embarkation (C = Cherbourg, Q = Queenstown, S = Southampton)."
   ]
  },
  {
   "cell_type": "code",
   "execution_count": 8,
   "id": "19f43a7b-c5e2-46ef-aeb2-1a9d39c0d79f",
   "metadata": {},
   "outputs": [
    {
     "data": {
      "text/html": [
       "<div>\n",
       "<style scoped>\n",
       "    .dataframe tbody tr th:only-of-type {\n",
       "        vertical-align: middle;\n",
       "    }\n",
       "\n",
       "    .dataframe tbody tr th {\n",
       "        vertical-align: top;\n",
       "    }\n",
       "\n",
       "    .dataframe thead th {\n",
       "        text-align: right;\n",
       "    }\n",
       "</style>\n",
       "<table border=\"1\" class=\"dataframe\">\n",
       "  <thead>\n",
       "    <tr style=\"text-align: right;\">\n",
       "      <th></th>\n",
       "      <th>PassengerId</th>\n",
       "      <th>Survived</th>\n",
       "      <th>Pclass</th>\n",
       "      <th>Name</th>\n",
       "      <th>Sex</th>\n",
       "      <th>Age</th>\n",
       "      <th>SibSp</th>\n",
       "      <th>Parch</th>\n",
       "      <th>Ticket</th>\n",
       "      <th>Fare</th>\n",
       "      <th>Cabin</th>\n",
       "      <th>Embarked</th>\n",
       "    </tr>\n",
       "  </thead>\n",
       "  <tbody>\n",
       "    <tr>\n",
       "      <th>0</th>\n",
       "      <td>892</td>\n",
       "      <td>0</td>\n",
       "      <td>3</td>\n",
       "      <td>Kelly, Mr. James</td>\n",
       "      <td>male</td>\n",
       "      <td>34.5</td>\n",
       "      <td>0</td>\n",
       "      <td>0</td>\n",
       "      <td>330911</td>\n",
       "      <td>7.8292</td>\n",
       "      <td>NaN</td>\n",
       "      <td>Q</td>\n",
       "    </tr>\n",
       "    <tr>\n",
       "      <th>1</th>\n",
       "      <td>893</td>\n",
       "      <td>1</td>\n",
       "      <td>3</td>\n",
       "      <td>Wilkes, Mrs. James (Ellen Needs)</td>\n",
       "      <td>female</td>\n",
       "      <td>47.0</td>\n",
       "      <td>1</td>\n",
       "      <td>0</td>\n",
       "      <td>363272</td>\n",
       "      <td>7.0000</td>\n",
       "      <td>NaN</td>\n",
       "      <td>S</td>\n",
       "    </tr>\n",
       "    <tr>\n",
       "      <th>2</th>\n",
       "      <td>894</td>\n",
       "      <td>0</td>\n",
       "      <td>2</td>\n",
       "      <td>Myles, Mr. Thomas Francis</td>\n",
       "      <td>male</td>\n",
       "      <td>62.0</td>\n",
       "      <td>0</td>\n",
       "      <td>0</td>\n",
       "      <td>240276</td>\n",
       "      <td>9.6875</td>\n",
       "      <td>NaN</td>\n",
       "      <td>Q</td>\n",
       "    </tr>\n",
       "    <tr>\n",
       "      <th>3</th>\n",
       "      <td>895</td>\n",
       "      <td>0</td>\n",
       "      <td>3</td>\n",
       "      <td>Wirz, Mr. Albert</td>\n",
       "      <td>male</td>\n",
       "      <td>27.0</td>\n",
       "      <td>0</td>\n",
       "      <td>0</td>\n",
       "      <td>315154</td>\n",
       "      <td>8.6625</td>\n",
       "      <td>NaN</td>\n",
       "      <td>S</td>\n",
       "    </tr>\n",
       "    <tr>\n",
       "      <th>4</th>\n",
       "      <td>896</td>\n",
       "      <td>1</td>\n",
       "      <td>3</td>\n",
       "      <td>Hirvonen, Mrs. Alexander (Helga E Lindqvist)</td>\n",
       "      <td>female</td>\n",
       "      <td>22.0</td>\n",
       "      <td>1</td>\n",
       "      <td>1</td>\n",
       "      <td>3101298</td>\n",
       "      <td>12.2875</td>\n",
       "      <td>NaN</td>\n",
       "      <td>S</td>\n",
       "    </tr>\n",
       "  </tbody>\n",
       "</table>\n",
       "</div>"
      ],
      "text/plain": [
       "   PassengerId  Survived  Pclass  \\\n",
       "0          892         0       3   \n",
       "1          893         1       3   \n",
       "2          894         0       2   \n",
       "3          895         0       3   \n",
       "4          896         1       3   \n",
       "\n",
       "                                           Name     Sex   Age  SibSp  Parch  \\\n",
       "0                              Kelly, Mr. James    male  34.5      0      0   \n",
       "1              Wilkes, Mrs. James (Ellen Needs)  female  47.0      1      0   \n",
       "2                     Myles, Mr. Thomas Francis    male  62.0      0      0   \n",
       "3                              Wirz, Mr. Albert    male  27.0      0      0   \n",
       "4  Hirvonen, Mrs. Alexander (Helga E Lindqvist)  female  22.0      1      1   \n",
       "\n",
       "    Ticket     Fare Cabin Embarked  \n",
       "0   330911   7.8292   NaN        Q  \n",
       "1   363272   7.0000   NaN        S  \n",
       "2   240276   9.6875   NaN        Q  \n",
       "3   315154   8.6625   NaN        S  \n",
       "4  3101298  12.2875   NaN        S  "
      ]
     },
     "execution_count": 8,
     "metadata": {},
     "output_type": "execute_result"
    }
   ],
   "source": [
    "titanic = pd.read_csv('./titatnic.csv')\n",
    "titanic.head()"
   ]
  },
  {
   "cell_type": "markdown",
   "id": "80545ff8-1554-45ad-bb9e-b5199cdc8230",
   "metadata": {},
   "source": [
    "## Handling Missing Values\n",
    "\n",
    "Let's begin with missing values. Missing data can disrupt your analysis, so it's vital to address them properly."
   ]
  },
  {
   "cell_type": "code",
   "execution_count": 9,
   "id": "511f8949-c4ea-40a9-91a5-05d3fc464271",
   "metadata": {},
   "outputs": [
    {
     "name": "stdout",
     "output_type": "stream",
     "text": [
      "Missing Values:\n",
      " PassengerId      0\n",
      "Survived         0\n",
      "Pclass           0\n",
      "Name             0\n",
      "Sex              0\n",
      "Age             86\n",
      "SibSp            0\n",
      "Parch            0\n",
      "Ticket           0\n",
      "Fare             1\n",
      "Cabin          327\n",
      "Embarked         0\n",
      "dtype: int64\n"
     ]
    }
   ],
   "source": [
    "# Check for missing values\n",
    "missing_values = titanic.isnull().sum()\n",
    "print(\"Missing Values:\\n\", missing_values)"
   ]
  },
  {
   "cell_type": "markdown",
   "id": "57279c96-7a58-4eb5-ac7a-02cddda18376",
   "metadata": {},
   "source": [
    "- In this example, we loaded the titanic data frame and checked for missing values using isnull() and sum().\n",
    "- We found that the column:\n",
    "    - **Age** has 86 missing values\n",
    "    - **Cabin** has 327 missing values\n",
    "    - **Fare** has 1 missing value\n",
    "- Once you've identified missing values using isnull() and sum(), we have several options for handling them:\n",
    "    - Data Removal:\n",
    "        - Dropping Rows / Columns: You can remove rows (data points) that contain missing values. This is suitable when only a small percentage of rows have missing data. If an entire column has a significant number of missing values and is not critical for your analysis, you can drop the entire column."
   ]
  },
  {
   "cell_type": "code",
   "execution_count": 10,
   "id": "77ceb6d6-a159-45c5-92db-fa45cf73823f",
   "metadata": {},
   "outputs": [
    {
     "data": {
      "text/html": [
       "<div>\n",
       "<style scoped>\n",
       "    .dataframe tbody tr th:only-of-type {\n",
       "        vertical-align: middle;\n",
       "    }\n",
       "\n",
       "    .dataframe tbody tr th {\n",
       "        vertical-align: top;\n",
       "    }\n",
       "\n",
       "    .dataframe thead th {\n",
       "        text-align: right;\n",
       "    }\n",
       "</style>\n",
       "<table border=\"1\" class=\"dataframe\">\n",
       "  <thead>\n",
       "    <tr style=\"text-align: right;\">\n",
       "      <th></th>\n",
       "      <th>PassengerId</th>\n",
       "      <th>Survived</th>\n",
       "      <th>Pclass</th>\n",
       "      <th>Name</th>\n",
       "      <th>Sex</th>\n",
       "      <th>Age</th>\n",
       "      <th>SibSp</th>\n",
       "      <th>Parch</th>\n",
       "      <th>Ticket</th>\n",
       "      <th>Fare</th>\n",
       "      <th>Embarked</th>\n",
       "    </tr>\n",
       "  </thead>\n",
       "  <tbody>\n",
       "    <tr>\n",
       "      <th>12</th>\n",
       "      <td>904</td>\n",
       "      <td>1</td>\n",
       "      <td>1</td>\n",
       "      <td>Snyder, Mrs. John Pillsbury (Nelle Stevenson)</td>\n",
       "      <td>female</td>\n",
       "      <td>23.0</td>\n",
       "      <td>1</td>\n",
       "      <td>0</td>\n",
       "      <td>21228</td>\n",
       "      <td>82.2667</td>\n",
       "      <td>S</td>\n",
       "    </tr>\n",
       "    <tr>\n",
       "      <th>14</th>\n",
       "      <td>906</td>\n",
       "      <td>1</td>\n",
       "      <td>1</td>\n",
       "      <td>Chaffee, Mrs. Herbert Fuller (Carrie Constance...</td>\n",
       "      <td>female</td>\n",
       "      <td>47.0</td>\n",
       "      <td>1</td>\n",
       "      <td>0</td>\n",
       "      <td>W.E.P. 5734</td>\n",
       "      <td>61.1750</td>\n",
       "      <td>S</td>\n",
       "    </tr>\n",
       "    <tr>\n",
       "      <th>24</th>\n",
       "      <td>916</td>\n",
       "      <td>1</td>\n",
       "      <td>1</td>\n",
       "      <td>Ryerson, Mrs. Arthur Larned (Emily Maria Borie)</td>\n",
       "      <td>female</td>\n",
       "      <td>48.0</td>\n",
       "      <td>1</td>\n",
       "      <td>3</td>\n",
       "      <td>PC 17608</td>\n",
       "      <td>262.3750</td>\n",
       "      <td>C</td>\n",
       "    </tr>\n",
       "    <tr>\n",
       "      <th>26</th>\n",
       "      <td>918</td>\n",
       "      <td>1</td>\n",
       "      <td>1</td>\n",
       "      <td>Ostby, Miss. Helene Ragnhild</td>\n",
       "      <td>female</td>\n",
       "      <td>22.0</td>\n",
       "      <td>0</td>\n",
       "      <td>1</td>\n",
       "      <td>113509</td>\n",
       "      <td>61.9792</td>\n",
       "      <td>C</td>\n",
       "    </tr>\n",
       "    <tr>\n",
       "      <th>28</th>\n",
       "      <td>920</td>\n",
       "      <td>0</td>\n",
       "      <td>1</td>\n",
       "      <td>Brady, Mr. John Bertram</td>\n",
       "      <td>male</td>\n",
       "      <td>41.0</td>\n",
       "      <td>0</td>\n",
       "      <td>0</td>\n",
       "      <td>113054</td>\n",
       "      <td>30.5000</td>\n",
       "      <td>S</td>\n",
       "    </tr>\n",
       "  </tbody>\n",
       "</table>\n",
       "</div>"
      ],
      "text/plain": [
       "    PassengerId  Survived  Pclass  \\\n",
       "12          904         1       1   \n",
       "14          906         1       1   \n",
       "24          916         1       1   \n",
       "26          918         1       1   \n",
       "28          920         0       1   \n",
       "\n",
       "                                                 Name     Sex   Age  SibSp  \\\n",
       "12      Snyder, Mrs. John Pillsbury (Nelle Stevenson)  female  23.0      1   \n",
       "14  Chaffee, Mrs. Herbert Fuller (Carrie Constance...  female  47.0      1   \n",
       "24    Ryerson, Mrs. Arthur Larned (Emily Maria Borie)  female  48.0      1   \n",
       "26                       Ostby, Miss. Helene Ragnhild  female  22.0      0   \n",
       "28                            Brady, Mr. John Bertram    male  41.0      0   \n",
       "\n",
       "    Parch       Ticket      Fare Embarked  \n",
       "12      0        21228   82.2667        S  \n",
       "14      0  W.E.P. 5734   61.1750        S  \n",
       "24      3     PC 17608  262.3750        C  \n",
       "26      1       113509   61.9792        C  \n",
       "28      0       113054   30.5000        S  "
      ]
     },
     "execution_count": 10,
     "metadata": {},
     "output_type": "execute_result"
    }
   ],
   "source": [
    "titanic.dropna(inplace=True)  # Drops rows with missing values\n",
    "titanic.drop('Cabin', axis=1, inplace=True)  # Drops a column with missing values\n",
    "titanic.head()"
   ]
  },
  {
   "cell_type": "markdown",
   "id": "c30b7b4b-d42a-488e-a12e-167083e13fbe",
   "metadata": {},
   "source": [
    "- Data Imputation: You can fill in missing values with the mean, median, or mode of the respective column. This is useful when missing values are missing at random and don't introduce bias."
   ]
  },
  {
   "cell_type": "code",
   "execution_count": 16,
   "id": "47cbd18c-cb35-41f9-8f94-0db3dd277fdd",
   "metadata": {},
   "outputs": [
    {
     "name": "stdout",
     "output_type": "stream",
     "text": [
      "Missing Values:\n",
      " PassengerId    0\n",
      "Survived       0\n",
      "Pclass         0\n",
      "Name           0\n",
      "Sex            0\n",
      "Age            0\n",
      "SibSp          0\n",
      "Parch          0\n",
      "Ticket         0\n",
      "Fare           0\n",
      "Embarked       0\n",
      "dtype: int64\n"
     ]
    }
   ],
   "source": [
    "titanic['Age'].fillna(titanic['Age'].mean(), inplace=True)  # Fill with mean\n",
    "missing_values = titanic.isnull().sum()\n",
    "print(\"Missing Values:\\n\", missing_values)"
   ]
  },
  {
   "cell_type": "markdown",
   "id": "67c4295f-54e9-47b6-bcfe-a39e8a818f52",
   "metadata": {},
   "source": [
    "- Forward or Backward Fill: For time series data, you can use forward fill (ffill) or backward fill (bfill) to propagate the last known value.\n",
    "- Interpolation: Interpolation methods estimate missing values based on neighboring values. For instance, linear interpolation estimates values based on a linear relationship.\n",
    "- Creating Indicator Variables: You can create binary indicator variables (0 or 1) to represent whether a value was missing or not. This allows you to capture the information about missingness. However, there are situations where this approach may not be a good idea or may not provide meaningful results.\n",
    "    - Imagine you have a dataset of employees, and one of the features is \"Salary.\" In this dataset, some employees have missing salary values. Creating binary variables (e.g., 0 for missing salary, 1 for known salary) to replace missing values for the \"Salary\" feature may not be a suitable approach. It could give the impression that employees with missing salaries have a fixed salary of 0, which is incorrect and misleading. In this case, a better approach might be to use an imputation method. So, creating binary variables may not capture the nuance of the missing salary data accurately.\n",
    "\n"
   ]
  },
  {
   "cell_type": "markdown",
   "id": "5ee8c5d0-d53a-40f0-9e8f-16f9ec3dd09a",
   "metadata": {},
   "source": [
    "## Addressing Outliers\n",
    "These extreme values can skew your analyses and visualizations significantly."
   ]
  },
  {
   "cell_type": "code",
   "execution_count": 15,
   "id": "c9b91c30-907b-4536-8c4d-2955c56817d6",
   "metadata": {},
   "outputs": [
    {
     "data": {
      "image/png": "[encoded data removed]",
      "text/plain": [
       "<Figure size 800x600 with 1 Axes>"
      ]
     },
     "metadata": {},
     "output_type": "display_data"
    }
   ],
   "source": [
    "# Create a boxplot to visualize outliers for the \"Age\" column\n",
    "plt.figure(figsize=(8, 6))\n",
    "sns.boxplot(data=titanic, x='Fare', orient='h', width=0.5, linewidth=2, fliersize=5, showfliers=True)\n",
    "plt.title(\"Boxplot of Fare in Titanic Dataset\")\n",
    "plt.xlabel(\"Fare\")\n",
    "plt.show()"
   ]
  },
  {
   "cell_type": "markdown",
   "id": "2d312f05-4927-4663-9b40-ce8084b99728",
   "metadata": {},
   "source": [
    "- In this example, visualize the **Fare** column using a boxplot. \n",
    "- We found that most passengers paid a maximum of approximately 300 USD for their ticket, except one passenger who paid over 500 USD.\n",
    "- Identifying and handling outliers is crucial because they can significantly impact your analysis results. Some of the ways to deal with them are\n",
    "    - Data Removal: If the outliers are clear errors or anomalies that don't represent genuine data, you can choose to remove them.\n",
    "    - Be cautious when removing outliers, as it can lead to a loss of potentially valuable information.\n",
    "    - Data Transformation: Apply data transformations to reduce the impact of outliers without removing them. Common transformations include taking the logarithm, square root, or Box-Cox transformation.\n",
    "    - Binning: Divide your data into bins or categories. Outliers can be placed in specific bins to prevent them from affecting the overall analysis. This is commonly used in histograms and when dealing with continuous data.\n",
    "    - Winsorization: Winsorization involves capping or limiting extreme values to a specified percentile. You set a threshold beyond which values are replaced with the nearest value at that threshold. For example, you can set a threshold at the 95th percentile and replace values above it with the 95th percentile value.\n",
    "    - Z-Score or Standardization: Calculate the z-score of your data points. The z-score measures how many standard deviations a data point is away from the mean. Set a threshold for the z-score (e.g., z > 3 or z < -3) and consider data points beyond this threshold as outliers. You can choose to remove or transform these outliers based on the z-score.\n",
    "    - Statistical Methods: Use statistical methods that are less sensitive to outliers, such as the median instead of the mean for central tendency or the interquartile range (IQR) instead of the standard deviation for dispersion. Robust regression techniques like the Huber loss function can also be employed when building predictive models.\n",
    "    - Clustering: Cluster analysis can help you identify and separate outliers from the rest of the data. Outliers might form separate clusters, making them easier to detect and manage."
   ]
  },
  {
   "cell_type": "markdown",
   "id": "9f479ff6-1f34-4f3b-9474-c912a8a8a8b0",
   "metadata": {},
   "source": [
    "## Managing Inconsistencies\n",
    "These can be errors or discrepancies in your data that need correction."
   ]
  },
  {
   "cell_type": "code",
   "execution_count": 18,
   "id": "6043dbfe-79cb-47f3-bb30-69074b18e39f",
   "metadata": {},
   "outputs": [
    {
     "data": {
      "text/html": [
       "<div>\n",
       "<style scoped>\n",
       "    .dataframe tbody tr th:only-of-type {\n",
       "        vertical-align: middle;\n",
       "    }\n",
       "\n",
       "    .dataframe tbody tr th {\n",
       "        vertical-align: top;\n",
       "    }\n",
       "\n",
       "    .dataframe thead th {\n",
       "        text-align: right;\n",
       "    }\n",
       "</style>\n",
       "<table border=\"1\" class=\"dataframe\">\n",
       "  <thead>\n",
       "    <tr style=\"text-align: right;\">\n",
       "      <th></th>\n",
       "      <th>City</th>\n",
       "    </tr>\n",
       "  </thead>\n",
       "  <tbody>\n",
       "    <tr>\n",
       "      <th>0</th>\n",
       "      <td>New York</td>\n",
       "    </tr>\n",
       "    <tr>\n",
       "      <th>1</th>\n",
       "      <td>Los Angeles</td>\n",
       "    </tr>\n",
       "    <tr>\n",
       "      <th>2</th>\n",
       "      <td>San Fran</td>\n",
       "    </tr>\n",
       "    <tr>\n",
       "      <th>3</th>\n",
       "      <td>Chicago</td>\n",
       "    </tr>\n",
       "    <tr>\n",
       "      <th>4</th>\n",
       "      <td>NYC</td>\n",
       "    </tr>\n",
       "  </tbody>\n",
       "</table>\n",
       "</div>"
      ],
      "text/plain": [
       "          City\n",
       "0     New York\n",
       "1  Los Angeles\n",
       "2     San Fran\n",
       "3      Chicago\n",
       "4          NYC"
      ]
     },
     "execution_count": 18,
     "metadata": {},
     "output_type": "execute_result"
    }
   ],
   "source": [
    "# Create a data frame with inconsistent city names\n",
    "data = {'City': ['New York', 'Los Angeles', 'San Fran', 'Chicago', 'NYC']}\n",
    "df = pd.DataFrame(data)\n",
    "df.head()"
   ]
  },
  {
   "cell_type": "code",
   "execution_count": 19,
   "id": "faf015bc-5826-4613-acae-ef950c6faddc",
   "metadata": {},
   "outputs": [
    {
     "name": "stdout",
     "output_type": "stream",
     "text": [
      "Fixed City Names:\n",
      " 0         New York\n",
      "1      Los Angeles\n",
      "2    San Francisco\n",
      "3          Chicago\n",
      "4         New York\n",
      "Name: City, dtype: object\n"
     ]
    }
   ],
   "source": [
    "# Replace inconsistent city names\n",
    "city_mapping = {'NYC': 'New York', 'San Fran': 'San Francisco'}\n",
    "df['City'] = df['City'].replace(city_mapping)\n",
    "\n",
    "print(\"Fixed City Names:\\n\", df['City'])"
   ]
  },
  {
   "cell_type": "markdown",
   "id": "de889121-f450-4329-bff9-5fa0be1cabe1",
   "metadata": {},
   "source": [
    "- In this example, we had inconsistent city names, and we fixed them using a mapping dictionary.\n",
    "- Inconsistencies can lead to incorrect analysis results, so it's essential to identify and rectify them to ensure data consistency and accuracy. Inconsistencies can arise from various sources, including typos, formatting issues, and errors. Here are several ways to address inconsistencies in your data:\n",
    "    - Data Standardization: Standardize data by ensuring consistent units, formats, and conventions. For example, if you have date data in various formats (e.g., \"MM/DD/YYYY\" and \"YYYY-MM-DD\"), convert them to a common"
   ]
  },
  {
   "cell_type": "code",
   "execution_count": 26,
   "id": "38c1e0cf-7a29-4337-88bb-1b27189fbcff",
   "metadata": {},
   "outputs": [
    {
     "data": {
      "text/html": [
       "<div>\n",
       "<style scoped>\n",
       "    .dataframe tbody tr th:only-of-type {\n",
       "        vertical-align: middle;\n",
       "    }\n",
       "\n",
       "    .dataframe tbody tr th {\n",
       "        vertical-align: top;\n",
       "    }\n",
       "\n",
       "    .dataframe thead th {\n",
       "        text-align: right;\n",
       "    }\n",
       "</style>\n",
       "<table border=\"1\" class=\"dataframe\">\n",
       "  <thead>\n",
       "    <tr style=\"text-align: right;\">\n",
       "      <th></th>\n",
       "      <th>Dates</th>\n",
       "    </tr>\n",
       "  </thead>\n",
       "  <tbody>\n",
       "    <tr>\n",
       "      <th>0</th>\n",
       "      <td>2021-09-15</td>\n",
       "    </tr>\n",
       "    <tr>\n",
       "      <th>1</th>\n",
       "      <td>15/09/2021</td>\n",
       "    </tr>\n",
       "    <tr>\n",
       "      <th>2</th>\n",
       "      <td>2021-09-20</td>\n",
       "    </tr>\n",
       "    <tr>\n",
       "      <th>3</th>\n",
       "      <td>09/20/2021</td>\n",
       "    </tr>\n",
       "  </tbody>\n",
       "</table>\n",
       "</div>"
      ],
      "text/plain": [
       "        Dates\n",
       "0  2021-09-15\n",
       "1  15/09/2021\n",
       "2  2021-09-20\n",
       "3  09/20/2021"
      ]
     },
     "execution_count": 26,
     "metadata": {},
     "output_type": "execute_result"
    }
   ],
   "source": [
    "from dateutil.parser import parse\n",
    "\n",
    "# Sample DataFrame with inconsistent date formats\n",
    "data = {'Dates': ['2021-09-15', '15/09/2021', '2021-09-20', '09/20/2021']}\n",
    "df = pd.DataFrame(data)\n",
    "df.head()"
   ]
  },
  {
   "cell_type": "code",
   "execution_count": 27,
   "id": "c78a9bc3-da8e-40e6-a396-89820f10ca3d",
   "metadata": {},
   "outputs": [
    {
     "data": {
      "text/html": [
       "<div>\n",
       "<style scoped>\n",
       "    .dataframe tbody tr th:only-of-type {\n",
       "        vertical-align: middle;\n",
       "    }\n",
       "\n",
       "    .dataframe tbody tr th {\n",
       "        vertical-align: top;\n",
       "    }\n",
       "\n",
       "    .dataframe thead th {\n",
       "        text-align: right;\n",
       "    }\n",
       "</style>\n",
       "<table border=\"1\" class=\"dataframe\">\n",
       "  <thead>\n",
       "    <tr style=\"text-align: right;\">\n",
       "      <th></th>\n",
       "      <th>Dates</th>\n",
       "    </tr>\n",
       "  </thead>\n",
       "  <tbody>\n",
       "    <tr>\n",
       "      <th>0</th>\n",
       "      <td>2021-09-15</td>\n",
       "    </tr>\n",
       "    <tr>\n",
       "      <th>1</th>\n",
       "      <td>2021-09-15</td>\n",
       "    </tr>\n",
       "    <tr>\n",
       "      <th>2</th>\n",
       "      <td>2021-09-20</td>\n",
       "    </tr>\n",
       "    <tr>\n",
       "      <th>3</th>\n",
       "      <td>2021-09-20</td>\n",
       "    </tr>\n",
       "  </tbody>\n",
       "</table>\n",
       "</div>"
      ],
      "text/plain": [
       "        Dates\n",
       "0  2021-09-15\n",
       "1  2021-09-15\n",
       "2  2021-09-20\n",
       "3  2021-09-20"
      ]
     },
     "execution_count": 27,
     "metadata": {},
     "output_type": "execute_result"
    }
   ],
   "source": [
    "# Use dateutil to parse the dates and format them consistently\n",
    "df['Dates'] = df['Dates'].apply(lambda x: parse(x).strftime('%Y-%m-%d'))\n",
    "\n",
    "# Display the DataFrame\n",
    "df.head()"
   ]
  },
  {
   "cell_type": "markdown",
   "id": "222e123b-0801-4afb-8be8-2d71e2f6ff7f",
   "metadata": {},
   "source": [
    "- Data transformation: Apply data transformations to correct inconsistencies. For instance, if you have inconsistent units (e.g., \"meters\" and \"feet\"), you can convert them to a common unit.\n",
    "- Data validation rules: Implement data validation rules to prevent inconsistencies from being introduced in the first place. For instance, restrict user input for specific fields to a predefined list of options.\n",
    "- Text cleaning: Remove leading and trailing whitespaces from text data to prevent inconsistencies caused by extra spaces. Use regular expressions to clean and standardize text data, such as removing special characters or punctuation.\n",
    "- Data profiling and Exploratory Data Analysis (EDA): Conduct data profiling and exploratory data analysis to identify inconsistencies visually. Data visualization tools can help you spot outliers or irregular patterns.\n",
    "- Pattern recognition: Use pattern recognition techniques to identify inconsistencies or anomalies in the data. For example, you can use regular expressions to validate email addresses, phone numbers, or postal codes.\n",
    "- Data governance policies: Establish data governance policies and guidelines within your organization to ensure data consistency and quality are maintained throughout the data lifecycle."
   ]
  },
  {
   "cell_type": "markdown",
   "id": "fb3f8b9a-eff6-4c73-90e4-66e606a92d72",
   "metadata": {},
   "source": [
    "Remember that the choice of method for processing values should depend on the nature of the data, the problem you're trying to solve, and the potential impact on your analysis. It's often a good practice to document the steps you've taken to handle missing values to ensure transparency in your analysis."
   ]
  },
  {
   "cell_type": "markdown",
   "id": "0bbba713-450e-4826-8248-51e8ac153cac",
   "metadata": {},
   "source": [
    "### Summary\n",
    "\n",
    "We discussed the important aspects of data cleaning and preprocessing in Python, focusing on handling missing values, outliers, and inconsistencies. The key points are:\n",
    "\n",
    "**Handling missing values**:\n",
    "\n",
    "- Missing data can disrupt your analysis, so addressing them is crucial.\n",
    "- Methods for handling missing values include data removal, data imputation (using mean, median, or mode), forward or backward fill for time series data, interpolation, and creating indicator variables (0 or 1) to represent missing values.\n",
    "- The choice of method depends on the nature of the data and the problem you're trying to solve.\n",
    "\n",
    "**Addressing outliers**:\n",
    "\n",
    "- Outliers are extreme values that can skew analysis results and visualizations.\n",
    "- Methods for dealing with outliers include data removal, data transformation (e.g., logarithm, square root), binning, Winsorization, z-score or standardization, statistical methods (e.g., median, IQR), clustering, and robust regression techniques.\n",
    "- Caution should be exercised when removing outliers to avoid loss of valuable information.\n",
    "\n",
    "**Managing Inconsistencies**:\n",
    "\n",
    "- Inconsistencies in data can lead to incorrect analysis results.\n",
    "- Methods for addressing inconsistencies include data standardization, data transformation (e.g., converting units), data validation rules, text cleaning, data profiling and exploratory data analysis (EDA), pattern recognition, and establishing data governance policies.\n",
    "- The choice of method for correcting inconsistencies depends on the specific data quality issues and their nature."
   ]
  }
 ],
 "metadata": {
  "kernelspec": {
   "display_name": "Python 3 (ipykernel)",
   "language": "python",
   "name": "python3"
  },
  "language_info": {
   "codemirror_mode": {
    "name": "ipython",
    "version": 3
   },
   "file_extension": ".py",
   "mimetype": "text/x-python",
   "name": "python",
   "nbconvert_exporter": "python",
   "pygments_lexer": "ipython3",
   "version": "3.11.6"
  }
 },
 "nbformat": 4,
 "nbformat_minor": 5
}
