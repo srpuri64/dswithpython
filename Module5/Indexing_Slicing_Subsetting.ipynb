{
 "cells": [
  {
   "cell_type": "markdown",
   "id": "ee64f29d-13b4-40e7-9d01-43ef5cf8ee42",
   "metadata": {},
   "source": [
    "# Indexing, Slicing, and Subsetting\n",
    "\n",
    "## Objective\n",
    "\n",
    "We will explore: \n",
    "- Indexing\n",
    "- Slicing\n",
    "- Subsetting\n",
    "\n",
    "These techniques are essential when working with sequences like lists, strings, and tuples in Python. Since these are the fundamental concepts in Python programming, gaining clarity about these will enable you to work with data efficiently. \n",
    "\n",
    "\n",
    "## Pre-requisites\n",
    "- Python Environment: You should have a Python environment set up on your system. If you don't have Python installed, you can download it from the [official Python website](https://www.python.org/downloads/). We recommend downloading Python 3.8 or above.\n",
    "- Jupyter Notebook: This code is intended to be run in a Jupyter Notebook environment. Make sure you have [Jupyter Notebook installed](https://jupyter.org/install).\n",
    "- No Additional Libraries: The code provided does not require any additional libraries or packages."
   ]
  },
  {
   "cell_type": "markdown",
   "id": "8e5bcbc8-5140-44e5-92f2-7e10c01f79a7",
   "metadata": {},
   "source": [
    "### Indexing \n",
    "\n",
    "Indexing allows us to access individual elements in a sequence by their position. \n",
    "\n",
    "- In Python, indexing starts at 0. When you have a collection of data, such as a list, array, or string, you may need to access individual elements.\n",
    "- This is often the first step when you start working with your data. For example, you might index into a list of sales data to retrieve values for specific days or months."
   ]
  },
  {
   "cell_type": "code",
   "execution_count": 5,
   "id": "cb841337-130f-4c6e-97fc-6846579d9174",
   "metadata": {},
   "outputs": [
    {
     "name": "stdout",
     "output_type": "stream",
     "text": [
      "[10, 20, 30, 40, 50]\n"
     ]
    }
   ],
   "source": [
    "# Indexing\n",
    "\n",
    "# Create a general list\n",
    "my_list = [10, 20, 30, 40, 50]\n",
    "print(my_list)"
   ]
  },
  {
   "cell_type": "code",
   "execution_count": 2,
   "id": "d6b0b21c-957b-4d8d-b1d7-ee5d7d099bfc",
   "metadata": {},
   "outputs": [
    {
     "name": "stdout",
     "output_type": "stream",
     "text": [
      "First Element: 10\n",
      "Third Element: 30\n"
     ]
    }
   ],
   "source": [
    "# Access the list elements\n",
    "first_element = my_list[0]  # Access the first element\n",
    "third_element = my_list[2]  # Access the third element\n",
    "\n",
    "# Print the extracted temperatures\n",
    "print(\"First Element:\", first_element)\n",
    "print(\"Third Element:\", third_element)"
   ]
  },
  {
   "cell_type": "markdown",
   "id": "dcf9d2be-b613-48f8-bee2-7490d740e615",
   "metadata": {},
   "source": [
    "As you can see, we accessed the first and third elements of the list using indexing."
   ]
  },
  {
   "cell_type": "markdown",
   "id": "3c90cea3-d703-4367-b434-ca1887f16010",
   "metadata": {},
   "source": [
    "### Slicing\n",
    "\n",
    "In data exploration, you might need to examine a subset of your data to get insights or perform initial analysis. So, slicing helps you extract a range of elements from a sequence. \n",
    "\n",
    "For instance, you might slice a time series to analyze a specific time period. Also, when dealing with messy data, you might need to clean it by removing unwanted characters or substrings. Slicing can help you isolate the relevant part of a string. The syntax is **[start:stop]**, where the start index is inclusive, and the stop index is exclusive."
   ]
  },
  {
   "cell_type": "code",
   "execution_count": 9,
   "id": "074b204f-46d9-45e1-a1f1-39a5ee24acf2",
   "metadata": {},
   "outputs": [
    {
     "name": "stdout",
     "output_type": "stream",
     "text": [
      "Afternoon Temperatures: [78, 76, 75, 74, 73]\n"
     ]
    }
   ],
   "source": [
    "# List of hourly temperatures throughout the day\n",
    "temperature_data = [72, 74, 75, 76, 78, 80, 82, 84, 85, 84, 82, 80, 78, 76, 75, 74, 73, 72, 71, 70]\n",
    "\n",
    "# Extract temperatures from noon to late afternoon (12:00 PM to 5:00 PM)\n",
    "afternoon_temperatures = temperature_data[12:17]\n",
    "\n",
    "# Print the extracted temperatures\n",
    "print(\"Afternoon Temperatures:\", afternoon_temperatures)"
   ]
  },
  {
   "cell_type": "markdown",
   "id": "be9990d9-da84-41ca-ab41-e0c29d5503e1",
   "metadata": {},
   "source": [
    "In this example:\n",
    "\n",
    "- 'temperature_data' represents the list of hourly temperatures recorded throughout the day.\n",
    "- 'temperature_data [12:17]' is a slice that extracts temperatures starting from index 12 (noon) up to, but not including, index 17 (5:00 PM)."
   ]
  },
  {
   "cell_type": "markdown",
   "id": "f49a0bd9-1bd7-4a9d-88aa-0fdb2108d939",
   "metadata": {},
   "source": [
    "This result shows the temperatures recorded from 12:00 PM to 5:00 PM. The slicing operation allows you to focus on a specific time range within your dataset, making it easier to analyze or visualize the data during that particular period."
   ]
  },
  {
   "cell_type": "markdown",
   "id": "4ed61bb1-4cc3-474d-9c8e-b1d9a42fd4b8",
   "metadata": {},
   "source": [
    "During data transformation, you might want to change the values of specific elements or apply functions to a subset of your data. Indexing and slicing allow you to pinpoint the data you want to work with. When creating plots or visualizations, you often need to extract specific data points to display. Indexing and slicing can help you obtain the necessary data for your graphs. So, these fundamental techniques can help you perform your data analysis efficiently and effectively."
   ]
  },
  {
   "cell_type": "markdown",
   "id": "29a2da19-6eec-4ec4-9391-81cea124abdf",
   "metadata": {},
   "source": [
    "### Subsetting\n",
    "\n",
    "- Subsetting is the process of selecting or extracting a subset of data from a larger dataset based on specific conditions or criteria.\n",
    "- It is more about filtering data based on specific conditions or criteria. Unlike, slicing it is not limited to sequences; you can use it to filter rows in a DataFrame, elements in a list, or any data structure based on your criteria.\n",
    "- When you subset data, you obtain a subset of the original data that meets your specified conditions. This subset may not necessarily be a sequence."
   ]
  },
  {
   "cell_type": "markdown",
   "id": "d31f187a-975f-4d13-bea9-39fb45b4c360",
   "metadata": {},
   "source": [
    "Let us try to understand this with an example:\n",
    "\n",
    "Suppose you have a list of student grades, and you want to create a new list that contains only the grades of students who scored above a certain threshold (e.g., grades greater than or equal to 70)."
   ]
  },
  {
   "cell_type": "code",
   "execution_count": 6,
   "id": "703482d7-9d4f-4a22-abec-214780dbcb86",
   "metadata": {},
   "outputs": [
    {
     "name": "stdout",
     "output_type": "stream",
     "text": [
      "[85, 92, 68, 78, 95, 60, 72, 88, 76, 90]\n"
     ]
    }
   ],
   "source": [
    "# List of student grades\n",
    "grades = [85, 92, 68, 78, 95, 60, 72, 88, 76, 90]\n",
    "print(grades)"
   ]
  },
  {
   "cell_type": "code",
   "execution_count": 8,
   "id": "86ad3e48-466f-4f35-905c-285880afd530",
   "metadata": {},
   "outputs": [
    {
     "name": "stdout",
     "output_type": "stream",
     "text": [
      "Passing Grades: [85, 92, 78, 95, 72, 88, 76, 90]\n"
     ]
    }
   ],
   "source": [
    "# Define a threshold for passing grades\n",
    "passing_threshold = 70\n",
    "\n",
    "# Use subsetting to filter passing grades\n",
    "passing_grades = [grade for grade in grades if grade >= passing_threshold]\n",
    "\n",
    "# Print the passing grades\n",
    "print(\"Passing Grades:\", passing_grades)"
   ]
  },
  {
   "cell_type": "markdown",
   "id": "a28e5f75-7cfe-46b7-a7ea-540eb0012fc9",
   "metadata": {},
   "source": [
    "In this example:\n",
    "\n",
    "- 'grades' is the list of student grades.\n",
    "- 'passing_threshold' is the criterion for passing grades, set to 70.\n",
    "- 'passing_grades' is created using a list comprehension that filters the grades greater than or equal to the passing threshold."
   ]
  },
  {
   "cell_type": "markdown",
   "id": "df0f6701-913e-4ad0-9c74-57ee1c9e3564",
   "metadata": {},
   "source": [
    "In this output, you can see that the passing_grades list contains only the grades of students who scored 70 or higher, effectively subsetting the data to focus on the students who passed the course. \n",
    "\n",
    "This is just one example of how subsetting can be used to extract relevant information from a dataset based on specific criteria."
   ]
  },
  {
   "cell_type": "markdown",
   "id": "617135e6-dda1-4c85-a84e-bce5f358e964",
   "metadata": {},
   "source": [
    "It is important to understand subsetting as it will come in handy in almost every step of the way during your data analysis. \n",
    "\n",
    "For example: \n",
    "\n",
    "- During data exploration subsetting enables you to explore and analyze specific aspects of your data, making it easier to understand patterns and trends.\n",
    "- During data cleaning, when you are dealing with messy or incomplete data, subsetting helps you filter out and clean up the parts of the data that are problematic.\n",
    "- Transforming your data, subsetting is used to create new datasets by selecting specific columns or rows, which can be handy when you need to reshape or prepare your data for analysis.\n",
    "- During statistical analysis, subsetting allows you to focus on particular groups or categories within your data, which is essential for conducting detailed statistical analyses.\n",
    "- Machine learning, you often split your data into training and testing sets. Subsetting helps you create these distinct subsets for model training and evaluation."
   ]
  },
  {
   "cell_type": "markdown",
   "id": "2fedb69b-1ad9-46e4-8204-6247c0e5127d",
   "metadata": {},
   "source": [
    "### Summary:\n",
    "\n",
    "In summary, indexing, slicing, and subsetting are versatile techniques that you'll use throughout your data analysis journey, from initial data exploration and cleaning to transformation, visualization, statistical analysis, and even in the preparation of data for machine learning models. \n",
    "\n",
    "These operations are essential for extracting, manipulating, and analyzing specific portions of your data, making them fundamental skills for any data analyst or data scientist. Thank you!"
   ]
  }
 ],
 "metadata": {
  "kernelspec": {
   "display_name": "Python 3 (ipykernel)",
   "language": "python",
   "name": "python3"
  },
  "language_info": {
   "codemirror_mode": {
    "name": "ipython",
    "version": 3
   },
   "file_extension": ".py",
   "mimetype": "text/x-python",
   "name": "python",
   "nbconvert_exporter": "python",
   "pygments_lexer": "ipython3",
   "version": "3.11.6"
  }
 },
 "nbformat": 4,
 "nbformat_minor": 5
}
