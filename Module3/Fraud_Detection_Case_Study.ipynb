{
 "cells": [
  {
   "cell_type": "markdown",
   "id": "a8478c03-ffa0-41e1-b119-b82b10b6f3b4",
   "metadata": {},
   "source": [
    "# Fraud Detection Case Study\n",
    "\n",
    "## Objective\n",
    "- In this case study, we will explore how data analytics can be applied to detect fraudulent credit card transactions using a simplified dataset.\n",
    "\n",
    "## Pre-Requisites\n",
    "- Python Environment: You should have a Python environment set up on your system. If you don't have Python installed, you can download it from the [official Python website](https://www.python.org/downloads/). We recommend downloading Python 3.8 or above.\n",
    "- Jupyter Notebook: This code is intended to be run in a Jupyter Notebook environment. Make sure you have [Jupyter Notebook installed](https://jupyter.org/install).\n",
    "- Library Installation: You need to install the required libraries:\n",
    "    - pandas\n",
    "    - numpy\n",
    "    - matplotlib\n",
    "    - seaborn\n",
    "    - scikit-learn\n",
    "\n",
    "To install, run the following commands:\n",
    "\"**!pip3 install pandas numpy matplotlib seaborn scikit-learn**\""
   ]
  },
  {
   "cell_type": "code",
   "execution_count": 1,
   "id": "3692f8bb-2856-4e91-add9-ede9355fcf4c",
   "metadata": {},
   "outputs": [
    {
     "name": "stdout",
     "output_type": "stream",
     "text": [
      "Requirement already satisfied: pandas in /opt/homebrew/lib/python3.11/site-packages (2.1.1)\n",
      "Requirement already satisfied: numpy in /opt/homebrew/lib/python3.11/site-packages (1.26.1)\n",
      "Requirement already satisfied: matplotlib in /opt/homebrew/lib/python3.11/site-packages (3.8.0)\n",
      "Requirement already satisfied: seaborn in /opt/homebrew/lib/python3.11/site-packages (0.13.0)\n",
      "Requirement already satisfied: scikit-learn in /opt/homebrew/lib/python3.11/site-packages (1.3.1)\n",
      "Requirement already satisfied: python-dateutil>=2.8.2 in /opt/homebrew/lib/python3.11/site-packages (from pandas) (2.8.2)\n",
      "Requirement already satisfied: pytz>=2020.1 in /opt/homebrew/lib/python3.11/site-packages (from pandas) (2023.3.post1)\n",
      "Requirement already satisfied: tzdata>=2022.1 in /opt/homebrew/lib/python3.11/site-packages (from pandas) (2023.3)\n",
      "Requirement already satisfied: contourpy>=1.0.1 in /opt/homebrew/lib/python3.11/site-packages (from matplotlib) (1.1.1)\n",
      "Requirement already satisfied: cycler>=0.10 in /opt/homebrew/lib/python3.11/site-packages (from matplotlib) (0.12.1)\n",
      "Requirement already satisfied: fonttools>=4.22.0 in /opt/homebrew/lib/python3.11/site-packages (from matplotlib) (4.43.1)\n",
      "Requirement already satisfied: kiwisolver>=1.0.1 in /opt/homebrew/lib/python3.11/site-packages (from matplotlib) (1.4.5)\n",
      "Requirement already satisfied: packaging>=20.0 in /opt/homebrew/lib/python3.11/site-packages (from matplotlib) (23.2)\n",
      "Requirement already satisfied: pillow>=6.2.0 in /opt/homebrew/lib/python3.11/site-packages (from matplotlib) (10.1.0)\n",
      "Requirement already satisfied: pyparsing>=2.3.1 in /opt/homebrew/lib/python3.11/site-packages (from matplotlib) (3.1.1)\n",
      "Requirement already satisfied: scipy>=1.5.0 in /opt/homebrew/lib/python3.11/site-packages (from scikit-learn) (1.11.3)\n",
      "Requirement already satisfied: joblib>=1.1.1 in /opt/homebrew/lib/python3.11/site-packages (from scikit-learn) (1.3.2)\n",
      "Requirement already satisfied: threadpoolctl>=2.0.0 in /opt/homebrew/lib/python3.11/site-packages (from scikit-learn) (3.2.0)\n",
      "Requirement already satisfied: six>=1.5 in /opt/homebrew/lib/python3.11/site-packages (from python-dateutil>=2.8.2->pandas) (1.16.0)\n",
      "\n",
      "\u001b[1m[\u001b[0m\u001b[34;49mnotice\u001b[0m\u001b[1;39;49m]\u001b[0m\u001b[39;49m A new release of pip is available: \u001b[0m\u001b[31;49m23.2.1\u001b[0m\u001b[39;49m -> \u001b[0m\u001b[32;49m23.3\u001b[0m\n",
      "\u001b[1m[\u001b[0m\u001b[34;49mnotice\u001b[0m\u001b[1;39;49m]\u001b[0m\u001b[39;49m To update, run: \u001b[0m\u001b[32;49mpython3.11 -m pip install --upgrade pip\u001b[0m\n"
     ]
    }
   ],
   "source": [
    "# Install the required libraries\n",
    "!pip3 install pandas numpy matplotlib seaborn scikit-learn"
   ]
  },
  {
   "cell_type": "markdown",
   "id": "ba4e2c4d-ed15-4bdb-b616-c96c2564fe97",
   "metadata": {},
   "source": [
    "### Business Use Case\n",
    "Imagine you work for a small bank, and your primary concern is to protect your customers from credit card fraud. Fraudulent transactions can have a significant financial impact on both customers and the bank. We will explore how data analytics can help identify and prevent fraudulent activities."
   ]
  },
  {
   "cell_type": "markdown",
   "id": "315a8157-0ee9-41d8-acba-b645044dd494",
   "metadata": {},
   "source": [
    "### Import Libraries"
   ]
  },
  {
   "cell_type": "code",
   "execution_count": 2,
   "id": "84713b46-6fd3-4e4f-a3ef-8bf65f8f0c09",
   "metadata": {},
   "outputs": [],
   "source": [
    "# Import necessary libraries\n",
    "import pandas as pd\n",
    "import numpy as np\n",
    "import matplotlib.pyplot as plt\n",
    "import seaborn as sns\n",
    "from sklearn.model_selection import train_test_split\n",
    "from sklearn.linear_model import LogisticRegression\n",
    "from sklearn.metrics import accuracy_score, precision_score, recall_score, f1_score"
   ]
  },
  {
   "cell_type": "markdown",
   "id": "582c8c1d-6d52-4b03-b554-a2a56cac5975",
   "metadata": {},
   "source": [
    "### Load the dataset\n",
    "We'll use a simplified dataset with 1000 rows and the following columns:\n",
    "\n",
    "- **TransactionID**: A unique identifier for each transaction.\n",
    "- **Amount**: The transaction amount.\n",
    "- **IsFraud**: A binary indicator (1 for fraud, 0 for legitimate transaction)."
   ]
  },
  {
   "cell_type": "code",
   "execution_count": 6,
   "id": "96089891-b12d-4732-b9a3-3f391f86c631",
   "metadata": {},
   "outputs": [],
   "source": [
    "# Load the dataset\n",
    "data = pd.read_csv('./credit_card_transactions.csv')"
   ]
  },
  {
   "cell_type": "markdown",
   "id": "d76b3d06-0194-49a5-a4e6-856f8194975e",
   "metadata": {},
   "source": [
    "### Data Exploration\n",
    "After we load the dataset, we will try to get a sense of our data. One way to do that is by looking at its structure. Here, we will examine the distribution of transaction amounts for both fraud and legitimate transactions."
   ]
  },
  {
   "cell_type": "code",
   "execution_count": 7,
   "id": "8694a58c-a135-4e6a-a607-e1de9fbbd583",
   "metadata": {},
   "outputs": [
    {
     "data": {
      "text/html": [
       "<div>\n",
       "<style scoped>\n",
       "    .dataframe tbody tr th:only-of-type {\n",
       "        vertical-align: middle;\n",
       "    }\n",
       "\n",
       "    .dataframe tbody tr th {\n",
       "        vertical-align: top;\n",
       "    }\n",
       "\n",
       "    .dataframe thead th {\n",
       "        text-align: right;\n",
       "    }\n",
       "</style>\n",
       "<table border=\"1\" class=\"dataframe\">\n",
       "  <thead>\n",
       "    <tr style=\"text-align: right;\">\n",
       "      <th></th>\n",
       "      <th>Amount</th>\n",
       "      <th>IsFraud</th>\n",
       "    </tr>\n",
       "  </thead>\n",
       "  <tbody>\n",
       "    <tr>\n",
       "      <th>0</th>\n",
       "      <td>101.884870</td>\n",
       "      <td>0</td>\n",
       "    </tr>\n",
       "    <tr>\n",
       "      <th>1</th>\n",
       "      <td>84.483136</td>\n",
       "      <td>0</td>\n",
       "    </tr>\n",
       "    <tr>\n",
       "      <th>2</th>\n",
       "      <td>119.941119</td>\n",
       "      <td>0</td>\n",
       "    </tr>\n",
       "    <tr>\n",
       "      <th>3</th>\n",
       "      <td>96.832728</td>\n",
       "      <td>0</td>\n",
       "    </tr>\n",
       "    <tr>\n",
       "      <th>4</th>\n",
       "      <td>136.441333</td>\n",
       "      <td>0</td>\n",
       "    </tr>\n",
       "  </tbody>\n",
       "</table>\n",
       "</div>"
      ],
      "text/plain": [
       "       Amount  IsFraud\n",
       "0  101.884870        0\n",
       "1   84.483136        0\n",
       "2  119.941119        0\n",
       "3   96.832728        0\n",
       "4  136.441333        0"
      ]
     },
     "execution_count": 7,
     "metadata": {},
     "output_type": "execute_result"
    }
   ],
   "source": [
    "# Data Exploration \n",
    "data.head()"
   ]
  },
  {
   "cell_type": "code",
   "execution_count": 5,
   "id": "4cb7c362-7918-4c1e-a702-90e8b28e9b07",
   "metadata": {},
   "outputs": [
    {
     "data": {
      "text/html": [
       "<div>\n",
       "<style scoped>\n",
       "    .dataframe tbody tr th:only-of-type {\n",
       "        vertical-align: middle;\n",
       "    }\n",
       "\n",
       "    .dataframe tbody tr th {\n",
       "        vertical-align: top;\n",
       "    }\n",
       "\n",
       "    .dataframe thead th {\n",
       "        text-align: right;\n",
       "    }\n",
       "</style>\n",
       "<table border=\"1\" class=\"dataframe\">\n",
       "  <thead>\n",
       "    <tr style=\"text-align: right;\">\n",
       "      <th></th>\n",
       "      <th>Amount</th>\n",
       "      <th>IsFraud</th>\n",
       "    </tr>\n",
       "  </thead>\n",
       "  <tbody>\n",
       "    <tr>\n",
       "      <th>count</th>\n",
       "      <td>1000.000000</td>\n",
       "      <td>1000.00000</td>\n",
       "    </tr>\n",
       "    <tr>\n",
       "      <th>mean</th>\n",
       "      <td>102.043087</td>\n",
       "      <td>0.02000</td>\n",
       "    </tr>\n",
       "    <tr>\n",
       "      <th>std</th>\n",
       "      <td>32.561570</td>\n",
       "      <td>0.14007</td>\n",
       "    </tr>\n",
       "    <tr>\n",
       "      <th>min</th>\n",
       "      <td>19.165448</td>\n",
       "      <td>0.00000</td>\n",
       "    </tr>\n",
       "    <tr>\n",
       "      <th>25%</th>\n",
       "      <td>79.834057</td>\n",
       "      <td>0.00000</td>\n",
       "    </tr>\n",
       "    <tr>\n",
       "      <th>50%</th>\n",
       "      <td>100.966935</td>\n",
       "      <td>0.00000</td>\n",
       "    </tr>\n",
       "    <tr>\n",
       "      <th>75%</th>\n",
       "      <td>121.560358</td>\n",
       "      <td>0.00000</td>\n",
       "    </tr>\n",
       "    <tr>\n",
       "      <th>max</th>\n",
       "      <td>284.496375</td>\n",
       "      <td>1.00000</td>\n",
       "    </tr>\n",
       "  </tbody>\n",
       "</table>\n",
       "</div>"
      ],
      "text/plain": [
       "            Amount     IsFraud\n",
       "count  1000.000000  1000.00000\n",
       "mean    102.043087     0.02000\n",
       "std      32.561570     0.14007\n",
       "min      19.165448     0.00000\n",
       "25%      79.834057     0.00000\n",
       "50%     100.966935     0.00000\n",
       "75%     121.560358     0.00000\n",
       "max     284.496375     1.00000"
      ]
     },
     "execution_count": 5,
     "metadata": {},
     "output_type": "execute_result"
    }
   ],
   "source": [
    "# Descriptive statistics\n",
    "data.describe()"
   ]
  },
  {
   "cell_type": "markdown",
   "id": "15bfef6e-8360-4c84-ad74-c23af6574966",
   "metadata": {},
   "source": [
    "In the code above, we: \n",
    "- The **data.head()** function is used to display the first few rows of the dataset. This enables us to view the column names and their corresponding values.\n",
    "- **The data.describe()** function is used to generate summary statistics of the dataset:\n",
    "    - The **count** column indicates the number of valid, non-missing data points in each column. In this case, it shows that there are 1,000 data points for both the 'Amount' and 'IsFraud' columns.\n",
    "    - The **mean** of the:\n",
    "        - Amount column is approximately 102.04, indicating the average transaction amount.\n",
    "        - IsFraud column, the mean is 0.02, which suggests that approximately 2% of the transactions in the dataset are labeled as fraudulent.\n",
    "    - The **std** represents the standard deviation column, which tells us that for:\n",
    "        - Amount is approximately 32.56. This suggests that the transaction amounts in the dataset vary considerably. Some transactions may have significantly higher or lower amounts than the mean (around 102.04).\n",
    "        - IsFraud is approximately 0.14007. Since 'IsFraud' is a binary variable (0 or 1), the standard deviation is low, indicating that there is very little variation in this column. The majority of the data points are close to 0 (non-fraudulent) with a small proportion being 1 (fraudulent).\n",
    "    - The **minimum value** for:\n",
    "        - Amount is approximately 19.17\n",
    "        - IsFraud is 0 (since it's a binary indicator, 0 represents non-fraudulent transactions).\n",
    "    - **25% (Q1) or The 25th percentile**, also known as the first quartile, represents the value below which 25% of the data falls. For:\n",
    "        - Amount, the 25th percentile value is approximately 79.83, indicating that 25% of the transaction amounts are less than or equal to this value.\n",
    "        - IsFraud it's 0, which means that 25% of the transactions are labeled as fraudulent (fraud = 1).\n",
    "    - **50% (Q2) or The 50th percentile**, also known as the median, represents the value below which 50% of the data falls. For\n",
    "        - Amount the median value is approximately 100.97, indicating that half of the transaction amounts are less than or equal to this value.\n",
    "        - IsFraud it's 0, indicating that 50% of the transactions are non-fraudulent.\n",
    "    - **75% (Q3) or The 75th percentile**, also known as the third quartile, represents the value below which 75% of the data falls. For\n",
    "        - Amount it is approximately 121.56, indicating that 75% of the transaction amounts are less than or equal to this value.\n",
    "        - IsFraud, it's 0, suggesting that 75% of the transactions are non-fraudulent.\n",
    "    - **max**: This shows the maximum value in each column. For:\n",
    "        - Amount, the largest transaction amount is approximately 284.50\n",
    "        - IsFraud, the maximum value is 1 (since 1 represents fraudulent transactions)."
   ]
  },
  {
   "cell_type": "markdown",
   "id": "129dc405-a88b-4e48-9bf2-68845a819fd7",
   "metadata": {},
   "source": [
    "### Data Preprocessing\n",
    "After exploring our data, we will check for missing values and encode categorical variables (if any)."
   ]
  },
  {
   "cell_type": "code",
   "execution_count": 11,
   "id": "eddb8c95-59d2-4e8b-9344-9e4dc59f5df1",
   "metadata": {},
   "outputs": [
    {
     "name": "stdout",
     "output_type": "stream",
     "text": [
      "\n",
      "Missing values in the dataset:\n",
      "Amount     0\n",
      "IsFraud    0\n",
      "dtype: int64\n"
     ]
    }
   ],
   "source": [
    "# Check for missing values\n",
    "missing_values = data.isnull().sum()\n",
    "print(\"\\nMissing values in the dataset:\")\n",
    "print(missing_values)"
   ]
  },
  {
   "cell_type": "markdown",
   "id": "7c264350-d1b4-484b-94d3-c4a83e9c3568",
   "metadata": {},
   "source": [
    "We find that there are no missing values in our dataset. "
   ]
  },
  {
   "cell_type": "markdown",
   "id": "faf9a93f-d0f6-4e78-8f28-b29d9fc0fa1a",
   "metadata": {},
   "source": [
    "### Data Visualization:\n",
    "\n",
    "Now, we will visualize the transaction amounts for fraud and legitimate transactions."
   ]
  },
  {
   "cell_type": "code",
   "execution_count": 15,
   "id": "02df4982-cb4b-4029-acf7-1eab4a573ddc",
   "metadata": {},
   "outputs": [
    {
     "data": {
      "image/png": "[encoded data removed]",
      "text/plain": [
       "<Figure size 1000x600 with 1 Axes>"
      ]
     },
     "metadata": {},
     "output_type": "display_data"
    }
   ],
   "source": [
    "# Visualize transaction amounts for fraud and legitimate transactions\n",
    "plt.figure(figsize=(10, 6))\n",
    "sns.histplot(data[data['IsFraud'] == 1]['Amount'], bins=50, color='red', label='Fraud')\n",
    "sns.histplot(data[data['IsFraud'] == 0]['Amount'], bins=50, color='blue', label='Legitimate')\n",
    "plt.title(\"Transaction Amount Distribution\")\n",
    "plt.xlabel(\"Amount\")\n",
    "plt.ylabel(\"Count\")\n",
    "plt.legend()\n",
    "plt.show()"
   ]
  },
  {
   "cell_type": "markdown",
   "id": "05437d74-d2bc-4476-b2db-e5dbd812f316",
   "metadata": {},
   "source": [
    "We discover that: \n",
    "- Most transactions are not fraudulent.\n",
    "- The dataset does not represent large expense amounts. The largest fraudulent amount is approximately 280 USD.\n",
    "- A pattern of fraudulent transactions, as none of them are below or at 100 USD. Overlapping amounts exist between approximately 110-175 USD.\n",
    "- All transactions over approximately 175 USD are fraudulent. "
   ]
  },
  {
   "cell_type": "markdown",
   "id": "5809b68f-f2ff-4f2c-8441-e8f1577c9807",
   "metadata": {},
   "source": [
    "### Machine Learning Model:\n",
    "We will:\n",
    "- Split the dataset into training and testing sets.\n",
    "- Train a simple machine learning model - Logistic Regression on the training data.\n",
    "- Evaluate the model's performance using accuracy, precision, recall, and F1-score."
   ]
  },
  {
   "cell_type": "code",
   "execution_count": 24,
   "id": "fe55d372-f079-4312-81df-f8203aad739d",
   "metadata": {},
   "outputs": [],
   "source": [
    "# Split the dataset into features and labels\n",
    "X = data[['Amount']]  \n",
    "y = data['IsFraud'] "
   ]
  },
  {
   "cell_type": "markdown",
   "id": "82fa5077-324e-4375-9c90-17aabe89d44d",
   "metadata": {},
   "source": [
    "- X contains the feature(s) that we are using for analysis\n",
    "- y contains the label that we will analyze"
   ]
  },
  {
   "cell_type": "code",
   "execution_count": 25,
   "id": "28694aed-ea8c-449a-a539-1af3ccd17948",
   "metadata": {},
   "outputs": [],
   "source": [
    "# Split the data into training and testing sets\n",
    "X_train, X_test, y_train, y_test = train_test_split(X, y, test_size=0.2, random_state=42)"
   ]
  },
  {
   "cell_type": "markdown",
   "id": "3d7245bf-813d-492a-a605-a81a7626a667",
   "metadata": {},
   "source": [
    "- We are training on 80% of the dataset which will be stored in X-train and y_train)\n",
    "- We will use 20% of the unseen data to evaluate our model. This data is stored in X-test and y_test"
   ]
  },
  {
   "cell_type": "code",
   "execution_count": 26,
   "id": "c61674ba-0492-44f4-8371-6bc7c42b5207",
   "metadata": {},
   "outputs": [],
   "source": [
    "# Train a Logistic Regression model\n",
    "model = LogisticRegression()\n",
    "model.fit(X_train, y_train)\n",
    "y_pred = model.predict(X_test)"
   ]
  },
  {
   "cell_type": "markdown",
   "id": "64309fe4-8439-4081-8dac-cb0e68e3e82f",
   "metadata": {},
   "source": [
    "- 'model = LogisticRegression()' creates an instance of a logistic regression model. Logistic regression is a type of supervised machine learning algorithm used for binary classification problems, where you want to predict one of two possible classes (e.g., yes/no, true/false, 1/0).\n",
    "- 'model.fit(X_train, y_train)' trains the logistic regression model using the training data. In this case, X_train represents the feature matrix (independent variables: Amount), and y_train represents the target variable (labels: IsFraud). The fit method adjusts the model's parameters to make predictions based on the provided training data.\n",
    "- 'y_pred = model.predict(X_test)' makes predictions on a separate dataset, which is the testing set. X_test is the feature matrix, and y_pred is a variable that stores the predicted labels for the testing data. The logistic regression model uses the learned parameters to make predictions on new, unseen data."
   ]
  },
  {
   "cell_type": "markdown",
   "id": "96aedb4b-ca6d-4959-9609-f82dcc9a11b8",
   "metadata": {},
   "source": [
    "### Fraud Detection Results:\n",
    "\n",
    "Report the model's accuracy and fraud detection metrics.\n",
    "Analyze the performance of the model."
   ]
  },
  {
   "cell_type": "code",
   "execution_count": 27,
   "id": "a576eff9-394d-4f55-aa23-c995e7c28974",
   "metadata": {},
   "outputs": [
    {
     "name": "stdout",
     "output_type": "stream",
     "text": [
      "\n",
      "Model Accuracy: 99.50%\n",
      "Precision: 1.00\n",
      "Recall: 0.75\n",
      "F1-Score: 0.86\n"
     ]
    }
   ],
   "source": [
    "# Fraud Detection Results\n",
    "accuracy = accuracy_score(y_test, y_pred)\n",
    "precision = precision_score(y_test, y_pred)\n",
    "recall = recall_score(y_test, y_pred)\n",
    "f1 = f1_score(y_test, y_pred)\n",
    "\n",
    "print(\"\\nModel Accuracy: {:.2f}%\".format(accuracy * 100))\n",
    "print(\"Precision: {:.2f}\".format(precision))\n",
    "print(\"Recall: {:.2f}\".format(recall))\n",
    "print(\"F1-Score: {:.2f}\".format(f1))"
   ]
  },
  {
   "cell_type": "markdown",
   "id": "25d95ee3-933b-448e-8666-42d17f53656a",
   "metadata": {},
   "source": [
    "- Model Accuracy is reported as 99.5%. This means that the model correctly predicted 99.5% of the instances in the dataset. This high accuracy rate suggests that the model is making accurate predictions.\n",
    "- A precision of 1.00 means that every prediction the model made as positive was correct. This is an excellent precision score and indicates that the model is good at not falsely labeling negative instances as positive.\n",
    "- The recall score of 0.75 suggests that the model correctly identified 75% of all actual positive instances.\n",
    "- An F1 score of 0.86 indicates that the model is effective at making positive predictions while also correctly identifying a substantial proportion of actual positive instances. "
   ]
  },
  {
   "cell_type": "markdown",
   "id": "44ec1340-258a-4399-914d-7af8603fbc59",
   "metadata": {},
   "source": [
    "### Summary \n",
    "\n",
    "In this case study Case Study 1: Fraud Detection,\" we delve into the approach to using data analytics for detecting and preventing fraudulent activities. The key steps and components of their strategy are as follows:\n",
    "\n",
    "- **Data collection**: We begin by gathering transaction data, including the Amount that customers spend and the column IsFraud that tells us if the transaction is fraud or not (1= fraud, 0=legitimate).\n",
    "\n",
    "- **Data exploration and preprocessing**: To ensure data accuracy and consistency, we checked for missing values.  Also, we tried to explore the features, the distribution of data, and data visualization to uncover patterns and anomalies that could serve as potential indicators of fraud.\n",
    "\n",
    "- **Machine learning model development**: Our Logistic regression model, that trained on historical data to make them proficient in learning from past fraudulent activities and distinguishing them from legitimate transactions.\n",
    "\n",
    "- **Results and business impact: The results of this approach are impressive. Fraud detection rates significantly increase, while false positives decrease. \n",
    "\n",
    "Conclusion: This case study demonstrates the power of data analytics in fraud detection. By employing meticulous data collection, cleaning, and analysis, coupled with the implementation of machine learning models and continuous improvement, JPMorgan Chase effectively safeguards their customers and the financial ecosystem.\n",
    "\n",
    "Future Challenges: JPMorgan Chase acknowledges that fraudsters continue to evolve, and they remain committed to staying ahead of the curve. They emphasize the importance of harnessing the power of data analytics to ensure their fraud detection systems remain vigilant in protecting their customers and financial integrity.\n",
    "\n",
    "In conclusion, this case study at JPMorgan Chase serves as an inspiring example of how data analytics can be leveraged effectively to combat fraud. It underscores the importance of data in safeguarding financial institutions and encourages others to explore the potential of data analytics in their own endeavors.\n",
    "\n",
    "\n",
    "\n",
    "\n"
   ]
  }
 ],
 "metadata": {
  "kernelspec": {
   "display_name": "Python 3 (ipykernel)",
   "language": "python",
   "name": "python3"
  },
  "language_info": {
   "codemirror_mode": {
    "name": "ipython",
    "version": 3
   },
   "file_extension": ".py",
   "mimetype": "text/x-python",
   "name": "python",
   "nbconvert_exporter": "python",
   "pygments_lexer": "ipython3",
   "version": "3.11.6"
  }
 },
 "nbformat": 4,
 "nbformat_minor": 5
}
