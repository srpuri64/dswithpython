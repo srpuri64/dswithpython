{
 "cells": [
  {
   "cell_type": "markdown",
   "id": "a042f24b-8232-4f1f-80d9-8525b1a91115",
   "metadata": {},
   "source": [
    "# Functions and Libraries\n",
    "\n",
    "## Objective\n",
    "\n",
    "In this section, we will discuss two essential aspects of Python programming: functions and libraries. We will: \n",
    "\n",
    "- Encapsulate the unique logic behind creating and applying functions in Python. \n",
    "- Learn how to customize function parameters.\n",
    "- Explore commonly used Python libraries, such NumPy, Pandas, and Matplotlib.\n",
    "\n",
    "## Pre-Requisites\n",
    "- Python Environment: You should have a Python environment set up on your system. If you don't have Python installed, you can download it from the [official Python website](https://www.python.org/downloads/). We recommend downloading Python 3.8 or above.\n",
    "- Jupyter Notebook: This code is intended to be run in a Jupyter Notebook environment. Make sure you have [Jupyter Notebook installed](https://jupyter.org/install).\n",
    "- Library Installation: We will be using the NumPy library. If you have not previously installed then use **\"!pip3 install numpy\"** to install the library within your Jupyter notebook. \n"
   ]
  },
  {
   "cell_type": "code",
   "execution_count": 1,
   "id": "ff34ae5b-45f1-4a60-9c50-4e319211b89f",
   "metadata": {},
   "outputs": [
    {
     "name": "stdout",
     "output_type": "stream",
     "text": [
      "Requirement already satisfied: numpy in /opt/homebrew/lib/python3.11/site-packages (1.26.1)\n",
      "\n",
      "\u001b[1m[\u001b[0m\u001b[34;49mnotice\u001b[0m\u001b[1;39;49m]\u001b[0m\u001b[39;49m A new release of pip is available: \u001b[0m\u001b[31;49m23.2.1\u001b[0m\u001b[39;49m -> \u001b[0m\u001b[32;49m23.3.1\u001b[0m\n",
      "\u001b[1m[\u001b[0m\u001b[34;49mnotice\u001b[0m\u001b[1;39;49m]\u001b[0m\u001b[39;49m To update, run: \u001b[0m\u001b[32;49mpython3.11 -m pip install --upgrade pip\u001b[0m\n"
     ]
    }
   ],
   "source": [
    "# Install the required libraries\n",
    "!pip3 install numpy"
   ]
  },
  {
   "cell_type": "markdown",
   "id": "cf22c5c5-6e74-4cad-acda-9d45bdb33a36",
   "metadata": {},
   "source": [
    "### Functions\n",
    "Functions are like building blocks of code that allow you to encapsulate a set of instructions into a reusable unit. They make your code \n",
    "- Organized\n",
    "- Maintainable\n",
    "- Efficient\n",
    "\n",
    "Functions break down your code into smaller, manageable pieces. Each function is responsible for a specific task or operation. This modular approach makes it easier to understand, test, and debug your code because you can focus on one function at a time. \n",
    "\n",
    "Once you've defined a function to perform a particular task, you can reuse it in multiple parts of your program. This promotes code reuse, reducing the need to duplicate code and ensuring consistency. If you later need to change the behavior of that task, you only have to do it in one place (the function).\n"
   ]
  },
  {
   "cell_type": "code",
   "execution_count": 2,
   "id": "5a16c729-171a-47c9-82b4-4e5c65f1a173",
   "metadata": {},
   "outputs": [],
   "source": [
    "# Defining a basic function\n",
    "\n",
    "def greet(name):\n",
    "    return f\"Hello, {name}!\""
   ]
  },
  {
   "cell_type": "markdown",
   "id": "f756e6af-12bf-4f66-9713-7e8e1c85e54b",
   "metadata": {},
   "source": [
    "Here, we've created a function called \"greet\" that takes one parameter, \"name,\" and returns a greeting message. To use a function, you simply call it. Here's how you invoke the \"greet\" function:"
   ]
  },
  {
   "cell_type": "code",
   "execution_count": 3,
   "id": "af5e3c19-f495-4d14-973b-c4f3ba68c86a",
   "metadata": {},
   "outputs": [
    {
     "name": "stdout",
     "output_type": "stream",
     "text": [
      "Hello, Alice!\n"
     ]
    }
   ],
   "source": [
    "message = greet(\"Alice\")\n",
    "print(message)  # Output: \"Hello, Alice!\""
   ]
  },
  {
   "cell_type": "markdown",
   "id": "f859755c-b03f-4b0f-b096-439c59830e1b",
   "metadata": {},
   "source": [
    "We pass the argument \"Alice\" to the \"greet\" function, which then returns a message that we store in the \"message\" variable. Functions can accept multiple parameters, and you can even provide default values:"
   ]
  },
  {
   "cell_type": "code",
   "execution_count": 4,
   "id": "5c4f017c-2465-4628-8166-784cd2f5e9f6",
   "metadata": {},
   "outputs": [],
   "source": [
    "def calculate_area(length, width=1):\n",
    "    return length * width"
   ]
  },
  {
   "cell_type": "markdown",
   "id": "38909cc1-9b41-4959-add9-e7b9c3882340",
   "metadata": {},
   "source": [
    "In this example, \"width\" has a default value of 1, which means you can call the function with just the \"length\" argument if necessary. Functions often return values using the \"return\" statement. This is how they communicate their results to the rest of your code. Take a look at another example:"
   ]
  },
  {
   "cell_type": "code",
   "execution_count": 4,
   "id": "19178e7d-2bce-42c4-83bf-37c8bd81515b",
   "metadata": {},
   "outputs": [
    {
     "name": "stdout",
     "output_type": "stream",
     "text": [
      "8\n"
     ]
    }
   ],
   "source": [
    "def add(a, b):\n",
    "    return a + b\n",
    "\n",
    "result = add(3, 5)\n",
    "print(result)  # Output: 8"
   ]
  },
  {
   "cell_type": "markdown",
   "id": "b83c0a00-2d12-4794-ae66-bf9e95bfc22a",
   "metadata": {},
   "source": [
    "The \"add\" function returns the sum of its two arguments, which we store in the \"result\" variable. Functions have their own scope. Variables defined inside a function are local and exist only within that function. Let's illustrate this:"
   ]
  },
  {
   "cell_type": "code",
   "execution_count": 5,
   "id": "48013354-9082-4809-a087-6f1d271b64ef",
   "metadata": {},
   "outputs": [
    {
     "name": "stdout",
     "output_type": "stream",
     "text": [
      "10\n"
     ]
    }
   ],
   "source": [
    "def my_function():\n",
    "    x = 10\n",
    "    print(x)\n",
    "\n",
    "my_function()\n",
    "# print(x)  # This would result in a NameError because 'x' is not defined outside the function."
   ]
  },
  {
   "cell_type": "markdown",
   "id": "50c93447-5ecc-4755-9780-ccc0b01954ca",
   "metadata": {},
   "source": [
    "In this case, \"x\" is local to the \"my_function\" and cannot be accessed outside of it."
   ]
  },
  {
   "cell_type": "markdown",
   "id": "d9baddf2-590a-4f35-a045-8b719b77bb89",
   "metadata": {},
   "source": [
    "### Libraries\n",
    "\n",
    "Python libraries are collections of pre-built functions, modules, and classes that provide additional functionality. They save you time and effort by offering ready-made tools. One of the most widely used libraries is the \"math\" library:"
   ]
  },
  {
   "cell_type": "code",
   "execution_count": 7,
   "id": "534e1fef-6f22-451c-8765-cf9397bf8d36",
   "metadata": {},
   "outputs": [
    {
     "name": "stdout",
     "output_type": "stream",
     "text": [
      "4.0\n"
     ]
    }
   ],
   "source": [
    "import math\n",
    "\n",
    "sqrt = math.sqrt(16)\n",
    "print(sqrt)  # Output: 4.0"
   ]
  },
  {
   "cell_type": "markdown",
   "id": "9e099cfc-d4c5-42bc-bf26-5af41a260258",
   "metadata": {},
   "source": [
    "Here, we import the \"math\" library and use its \"sqrt\" function to calculate the square root of 16. There are various ways to import libraries in Python. You can import specific functions or import the entire library with an alias. For instance:"
   ]
  },
  {
   "cell_type": "code",
   "execution_count": 8,
   "id": "f14d2bfd-ee81-4e02-8f66-7e18e4d878e6",
   "metadata": {},
   "outputs": [],
   "source": [
    "from math import sqrt"
   ]
  },
  {
   "cell_type": "markdown",
   "id": "3eaae395-c119-4896-b9fe-3aac81acbfbb",
   "metadata": {},
   "source": [
    "This allows you to use \"sqrt\" without specifying \"math.\" You can also use aliases for libraries:"
   ]
  },
  {
   "cell_type": "code",
   "execution_count": 6,
   "id": "6d7748a4-bb53-4d2c-a3b8-76f14d6c28fc",
   "metadata": {},
   "outputs": [],
   "source": [
    "import numpy as np"
   ]
  },
  {
   "cell_type": "markdown",
   "id": "f3b56907-8ba4-431b-9f60-35d78f6718a8",
   "metadata": {},
   "source": [
    "This is especially useful when libraries have long names."
   ]
  },
  {
   "cell_type": "markdown",
   "id": "83cd7e58-a2a8-47ca-9c4f-67938cf8d6eb",
   "metadata": {},
   "source": [
    "#### Python's Ecosystem of Libraries\n",
    "\n",
    "Python boasts a vast ecosystem of libraries. Some of the commonly used libraries are linked to their official documentation below:\n",
    "\n",
    "- [NumPy](https://numpy.org/doc/): Ideal for numerical and mathematical operations.\n",
    "- [Pandas](https://pandas.pydata.org/docs/): Empowers data manipulation and analysis.\n",
    "- [Matplotlib](https://matplotlib.org/stable/index.html): Enables the creation of plots and charts\n",
    "- [Requests](https://requests.readthedocs.io/en/latest/): Facilitates webscraping by making HTTP requests.\n",
    "- [Django](https://docs.djangoproject.com/en/4.2/)/[Flask](https://flask.palletsprojects.com/en/3.0.x/): Powerhouses for web development.\n",
    "- [TensorFlow](https://www.tensorflow.org/api_docs)/[PyTorch](https://pytorch.org/docs/stable/index.html): Leading libraries for machine learning and deep learning."
   ]
  },
  {
   "cell_type": "markdown",
   "id": "75d28597-c7f6-4885-a4d2-6953cb3f9b69",
   "metadata": {},
   "source": [
    "### Summary\n",
    "\n",
    "Here's a summary of the key points covered in this segment:\n",
    "\n",
    "- Functions in Python are like building blocks of code that allow you to encapsulate a set of instructions into a reusable unit. They make code more organized, maintainable, and efficient. Functions are responsible for specific tasks, and they promote code modularity, making it easier to understand and debug. You can reuse functions in multiple parts of your program, reducing code duplication and ensuring consistency. Functions can accept parameters, have default values, and return values using the \"return\" statement.\n",
    "- Functions have their own scope, and variables defined inside a function are local, existing only within that function. They cannot be accessed outside of the function.\n",
    "- Python libraries are collections of pre-built functions, modules, and classes that provide additional functionality to your programs. They save time and effort by offering ready-made tools. The \"math\" library is introduced as an example.\n",
    "- There are different ways to import libraries in Python, such as importing specific functions, importing the entire library with or without an alias, and using aliases for libraries.\n",
    "- While libraries are powerful, you can create your own custom functions. Custom functions allow you to solve specific problems or encapsulate unique logic tailored to your projects.\n",
    "- It is important to emphasize upon the importance of functions for structuring code and the vast capabilities provided by Python libraries. You are highly encouraged to create your own functions and leverage the power of libraries to build remarkable Python programs."
   ]
  }
 ],
 "metadata": {
  "kernelspec": {
   "display_name": "Python 3 (ipykernel)",
   "language": "python",
   "name": "python3"
  },
  "language_info": {
   "codemirror_mode": {
    "name": "ipython",
    "version": 3
   },
   "file_extension": ".py",
   "mimetype": "text/x-python",
   "name": "python",
   "nbconvert_exporter": "python",
   "pygments_lexer": "ipython3",
   "version": "3.11.6"
  }
 },
 "nbformat": 4,
 "nbformat_minor": 5
}
