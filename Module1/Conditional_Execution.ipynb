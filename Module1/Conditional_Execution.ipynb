{
 "cells": [
  {
   "cell_type": "markdown",
   "id": "d7ab37d4-1603-45ed-a733-b6ae53aac07c",
   "metadata": {},
   "source": [
    "# Conditional Execution\n",
    "\n",
    "## Objective\n",
    "\n",
    "In this section, we will:\n",
    "\n",
    "- Learn to apply the 'if' statement in Python.\n",
    "- Explore how the 'if-else' statement provides an alternative path of execution.\n",
    "- Discover the 'elif' clause to handle multiple conditions in a systematic manner.\n",
    "- Apply logical operators, such as 'and', 'or', and 'not' for complex decision making.\n",
    "\n",
    "## Pre-Requisites\n",
    "- Python Environment: You should have a Python environment set up on your system. If you don't have Python installed, you can download it from the [official Python website](https://www.python.org/downloads/). We recommend downloading Python 3.8 or above.\n",
    "- Jupyter Notebook: This code is intended to be run in a Jupyter Notebook environment. Make sure you have [Jupyter Notebook installed](https://jupyter.org/install).\n",
    "- No Additional Libraries: The code provided does not require any additional libraries or packages."
   ]
  },
  {
   "cell_type": "markdown",
   "id": "b6bd5688-fdc2-4a79-9d03-752897019505",
   "metadata": {},
   "source": [
    "### Conditional Execution\n",
    "\n",
    "Imagine writing a program that behaves the same way every time, regardless of input or circumstances. That wouldn't be very useful. That's where conditionals come in handy. They allow your program to make decisions based on conditions, creating dynamic and intelligent software."
   ]
  },
  {
   "cell_type": "markdown",
   "id": "bedd21cf-86e4-4e57-9d71-3486f5f2f7b5",
   "metadata": {},
   "source": [
    "#### The \"if\" Statement\n",
    "\n",
    "The most basic form of conditional execution in Python is the \"if\" statement. It allows you to execute a block of code only if a certain condition is met. Here's a simple example:"
   ]
  },
  {
   "cell_type": "code",
   "execution_count": 1,
   "id": "f394430e-99bb-43a5-8177-a40689dc6ac6",
   "metadata": {},
   "outputs": [],
   "source": [
    "temperature = 25\n",
    "\n",
    "if temperature > 30:\n",
    "    print(\"It's hot outside!\")"
   ]
  },
  {
   "cell_type": "markdown",
   "id": "3ad47164-b75e-4673-9d7f-905ff155fc2a",
   "metadata": {},
   "source": [
    "In this example, the code inside the \"if\" block will only print \"It's hot outside!\" only if the condition *(temperature > 30)* is true."
   ]
  },
  {
   "cell_type": "markdown",
   "id": "5bf3d90b-78dd-4f55-8b91-143f20dbe7f4",
   "metadata": {},
   "source": [
    "#### The \"if-else\" Statement\n",
    "But what if we want the program to do something else when the condition is not met? That's where the \"if-else\" statement comes in. It provides an alternative path of execution. Here's an example:"
   ]
  },
  {
   "cell_type": "code",
   "execution_count": 2,
   "id": "3b7c1d6e-1174-4e78-9958-c802f154ee38",
   "metadata": {},
   "outputs": [
    {
     "name": "stdout",
     "output_type": "stream",
     "text": [
      "You're not eligible to vote yet.\n"
     ]
    }
   ],
   "source": [
    "age = 15\n",
    "\n",
    "if age >= 18:\n",
    "    print(\"You can vote!\")\n",
    "else:\n",
    "    print(\"You're not eligible to vote yet.\")"
   ]
  },
  {
   "cell_type": "markdown",
   "id": "7e57d60a-75ba-4b8f-881e-3e66ec94d8a2",
   "metadata": {},
   "source": [
    "Depending on the value of \"age,\" either the first or second print statement will be executed."
   ]
  },
  {
   "cell_type": "markdown",
   "id": "522fd55b-66a5-464a-9dc2-9e021405e08d",
   "metadata": {},
   "source": [
    "#### The \"elif\" Clause\n",
    "In many cases, you may have multiple conditions to check. For that, we use the \"elif\" clause, which stands for \"else if.\" Let's look at an example that categorizes a temperature:"
   ]
  },
  {
   "cell_type": "code",
   "execution_count": 3,
   "id": "c8253a96-aade-496e-9f70-2eae1616cd33",
   "metadata": {},
   "outputs": [
    {
     "name": "stdout",
     "output_type": "stream",
     "text": [
      "It's a pleasant day.\n"
     ]
    }
   ],
   "source": [
    "temperature = 22\n",
    "\n",
    "if temperature > 30:\n",
    "    print(\"It's hot outside!\")\n",
    "elif temperature > 20:\n",
    "    print(\"It's a pleasant day.\")\n",
    "else:\n",
    "    print(\"It's a bit chilly.\")"
   ]
  },
  {
   "cell_type": "markdown",
   "id": "f6176eff-45c8-438c-abcf-4b27597330f1",
   "metadata": {},
   "source": [
    "Here, Python checks each condition one by one and executes the first block of code whose condition is true."
   ]
  },
  {
   "cell_type": "markdown",
   "id": "3ad1245f-5d52-4135-8752-029dabd6d3d3",
   "metadata": {},
   "source": [
    "#### Logical Operators\n",
    "Conditions often involve more than just simple comparisons. We can use logical operators like \"and,\" \"or,\" and \"not\" to combine conditions. For instance:"
   ]
  },
  {
   "cell_type": "code",
   "execution_count": 4,
   "id": "993a99b7-3193-4cdb-8976-6eeb6ab6c527",
   "metadata": {},
   "outputs": [
    {
     "name": "stdout",
     "output_type": "stream",
     "text": [
      "You're in the prime voting age.\n"
     ]
    }
   ],
   "source": [
    "age = 25\n",
    "\n",
    "if age >= 18 and age <= 60:\n",
    "    print(\"You're in the prime voting age.\")"
   ]
  },
  {
   "cell_type": "markdown",
   "id": "c5ad7cde-d52e-43d8-8d86-33830e1b8112",
   "metadata": {},
   "source": [
    "Here, both conditions must be true for the message to be printed."
   ]
  },
  {
   "cell_type": "markdown",
   "id": "5045ab16-e5bd-492d-9eb6-91c3745c7e6e",
   "metadata": {},
   "source": [
    "#### Nested Conditionals\n",
    "You can also nest conditionals, which means putting one \"if\" statement inside another. This allows you to create more complex decision-making processes. For example:"
   ]
  },
  {
   "cell_type": "code",
   "execution_count": 5,
   "id": "c6eaa493-a360-407b-89cc-f5dc54eed381",
   "metadata": {},
   "outputs": [
    {
     "name": "stdout",
     "output_type": "stream",
     "text": [
      "You qualify for a loan.\n"
     ]
    }
   ],
   "source": [
    "age = 30\n",
    "income = 50000\n",
    "\n",
    "if age >= 18:\n",
    "    if income > 30000:\n",
    "        print(\"You qualify for a loan.\")\n",
    "    else:\n",
    "        print(\"Your income is too low for a loan.\")\n",
    "else:\n",
    "    print(\"You're not eligible for a loan due to age.\")"
   ]
  },
  {
   "cell_type": "markdown",
   "id": "530f76f8-cb98-4f63-88b0-b9e21d9857cf",
   "metadata": {},
   "source": [
    "In this example, we first check if the person is of eligible age, and if so, we check their income to determine loan eligibility."
   ]
  },
  {
   "cell_type": "markdown",
   "id": "1ef60fe2-2afe-474f-aee8-12ab8bcd1043",
   "metadata": {},
   "source": [
    "#### Ternary Conditional Expression\n",
    "Finally, Python offers a concise way to express conditionals in a single line using the ternary conditional expression. It's particularly useful when you want to assign a value based on a condition. Here's an example:"
   ]
  },
  {
   "cell_type": "code",
   "execution_count": 6,
   "id": "15dbea27-0e14-4fd1-a32b-7dbfce80dc89",
   "metadata": {},
   "outputs": [
    {
     "name": "stdout",
     "output_type": "stream",
     "text": [
      "You are: Adult\n"
     ]
    }
   ],
   "source": [
    "age = 20\n",
    "status = \"Adult\" if age >= 18 else \"Child\"\n",
    "print(\"You are:\", status)"
   ]
  },
  {
   "cell_type": "markdown",
   "id": "52084b91-8fda-4e22-8edd-8443a73496d6",
   "metadata": {},
   "source": [
    "The \"status\" variable is assigned \"Adult\" if the age is 18 or older, and \"Child\" otherwise."
   ]
  },
  {
   "cell_type": "markdown",
   "id": "78aecb4d-524f-4686-a943-eab87e12f550",
   "metadata": {},
   "source": [
    "### Summary\n",
    "\n",
    "In summary, conditionals are essential for creating dynamic and interactive programs that can make decisions based on specific conditions: The key points covered:\n",
    "\n",
    "- Conditionals are introduced as a means to add intelligence and interactivity to the Python programs. They allow your code to respond differently based on varying conditions and input.\n",
    "- The basic form of conditional execution is demonstrated using the \"if\" statement. It is used to execute a block of code only if a specified condition is met.\n",
    "- When you need to provide an alternative course of action when a condition is not met, the \"if-else\" statement is used.\n",
    "- For scenarios with multiple conditions to check, the \"elif\" (else if) clause is introduced. This allows you to test multiple conditions sequentially and execute the code block associated with the first true condition.\n",
    "- Logical operators such as \"and,\" \"or,\" and \"not\" are introduced to combine conditions and create more complex conditional statements.\n",
    "- To nest conditionals, you need to place one \"if\" statement inside another. This technique allows for the creation of more intricate decision-making processes.\n",
    "- Python's ternary conditional expression is presented as a concise way to express conditionals in a single line. This is particularly useful when assigning a value based on a condition.\n",
    "\n",
    "Conditionals are the foundation for building dynamic and responsive software. By mastering \"if,\" \"if-else,\" \"elif,\" logical operators, nesting, and the ternary conditional expression, you can create more intelligent and interactive Python programs."
   ]
  }
 ],
 "metadata": {
  "kernelspec": {
   "display_name": "Python 3 (ipykernel)",
   "language": "python",
   "name": "python3"
  },
  "language_info": {
   "codemirror_mode": {
    "name": "ipython",
    "version": 3
   },
   "file_extension": ".py",
   "mimetype": "text/x-python",
   "name": "python",
   "nbconvert_exporter": "python",
   "pygments_lexer": "ipython3",
   "version": "3.11.6"
  }
 },
 "nbformat": 4,
 "nbformat_minor": 5
}
